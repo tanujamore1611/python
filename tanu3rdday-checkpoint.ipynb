{
 "cells": [
  {
   "cell_type": "code",
   "execution_count": 1,
   "id": "64379c33-2221-48a4-96a5-b1694a8ac28d",
   "metadata": {},
   "outputs": [
    {
     "name": "stdout",
     "output_type": "stream",
     "text": [
      "Aditya\n",
      "Aditya\n",
      "Aditya\n",
      "Aditya\n",
      "Aditya\n"
     ]
    }
   ],
   "source": [
    "count=1\n",
    "while count<=5:\n",
    "    print('Aditya')\n",
    "    count=count+1"
   ]
  },
  {
   "cell_type": "code",
   "execution_count": 2,
   "id": "bdc6da51-ca9e-4c37-baf1-0e41ec24307f",
   "metadata": {},
   "outputs": [
    {
     "name": "stdout",
     "output_type": "stream",
     "text": [
      "5 6 7 8 9 10 11 12 13 14 15 goodbye\n"
     ]
    }
   ],
   "source": [
    "num=5\n",
    "while num<=15:\n",
    "      print(num,end=' ')\n",
    "      num+=1\n",
    "    \n",
    "print('goodbye')  "
   ]
  },
  {
   "cell_type": "code",
   "execution_count": 3,
   "id": "012f10bb-acf6-45f3-96a6-ffd1d3fbafa8",
   "metadata": {},
   "outputs": [
    {
     "name": "stdout",
     "output_type": "stream",
     "text": [
      "16\n"
     ]
    }
   ],
   "source": [
    "print(num)"
   ]
  },
  {
   "cell_type": "code",
   "execution_count": 4,
   "id": "b86f49d9-8c28-47bb-9bc3-3c6abea39802",
   "metadata": {},
   "outputs": [
    {
     "name": "stdout",
     "output_type": "stream",
     "text": [
      "addition is: 55\n"
     ]
    }
   ],
   "source": [
    "num=1\n",
    "add=0\n",
    "while num<=10:\n",
    "    add=num+add\n",
    "    num+=1\n",
    "print('addition is:',add)"
   ]
  },
  {
   "cell_type": "code",
   "execution_count": 5,
   "id": "0f4259de-c57d-48f1-bd8b-bb4e30101959",
   "metadata": {},
   "outputs": [
    {
     "name": "stdout",
     "output_type": "stream",
     "text": [
      "11\n"
     ]
    }
   ],
   "source": [
    "print(num)"
   ]
  },
  {
   "cell_type": "code",
   "execution_count": 6,
   "id": "00c44970-8cc0-4cf8-8723-98572c5dd9a5",
   "metadata": {},
   "outputs": [
    {
     "name": "stdout",
     "output_type": "stream",
     "text": [
      "add 100\n"
     ]
    }
   ],
   "source": [
    "num=1\n",
    "add=0\n",
    "while num<=20:\n",
    "    add=num+add\n",
    "    num+=2\n",
    "print(\"add\",add)"
   ]
  },
  {
   "cell_type": "code",
   "execution_count": 7,
   "id": "0cd07c6a-3129-4739-bc50-61b9d6a8a213",
   "metadata": {},
   "outputs": [
    {
     "name": "stdout",
     "output_type": "stream",
     "text": [
      "120\n"
     ]
    }
   ],
   "source": [
    "n=1\n",
    "fact=1\n",
    "while n<=5:\n",
    "    fact=fact*n\n",
    "    n+=1\n",
    "\n",
    "print(fact)"
   ]
  },
  {
   "cell_type": "code",
   "execution_count": null,
   "id": "18a222b8-47ad-4c08-9808-7a2d186f536f",
   "metadata": {},
   "outputs": [],
   "source": [
    "num=int(input(\"enter no.\"))\n",
    "sum=0\n",
    "while(num>0):\n",
    "    remainder=num%10\n",
    "    sum=sum+remainder\n",
    "    num=num//10\n",
    "\n",
    "print(sum)"
   ]
  },
  {
   "cell_type": "code",
   "execution_count": 1,
   "id": "288eaf17-4b27-4dd9-bbc9-5444a7dbddf8",
   "metadata": {},
   "outputs": [
    {
     "data": {
      "text/plain": [
       "[5, 6, 7, 8, 9, 10, 11, 12, 13, 14, 15, 16, 17, 18, 19]"
      ]
     },
     "execution_count": 1,
     "metadata": {},
     "output_type": "execute_result"
    }
   ],
   "source": [
    "list(range(5,20))"
   ]
  },
  {
   "cell_type": "code",
   "execution_count": 3,
   "id": "c38fd69d-25f6-4679-a477-2d8f82f753aa",
   "metadata": {},
   "outputs": [
    {
     "data": {
      "text/plain": [
       "[5, 7, 9, 11, 13, 15, 17, 19]"
      ]
     },
     "execution_count": 3,
     "metadata": {},
     "output_type": "execute_result"
    }
   ],
   "source": [
    "list(range(5,20,2))"
   ]
  },
  {
   "cell_type": "code",
   "execution_count": 10,
   "id": "3fab5bda-d4cd-404f-b21e-59a5bc965df8",
   "metadata": {},
   "outputs": [
    {
     "name": "stdout",
     "output_type": "stream",
     "text": [
      "1 6 "
     ]
    }
   ],
   "source": [
    "for n in range(1,11,5):\n",
    "    print(n,end=' ')\n",
    "    "
   ]
  },
  {
   "cell_type": "code",
   "execution_count": 6,
   "id": "5f416d90-2b4f-418c-9161-66b30d1af59e",
   "metadata": {},
   "outputs": [
    {
     "name": "stdout",
     "output_type": "stream",
     "text": [
      "100\n"
     ]
    }
   ],
   "source": [
    "add=0\n",
    "for n in range(1,21,2):\n",
    "    add=add+n\n",
    "\n",
    "print(add)\n",
    "    "
   ]
  },
  {
   "cell_type": "code",
   "execution_count": 19,
   "id": "968161b8-7f21-4250-8e59-30da43c360fc",
   "metadata": {},
   "outputs": [
    {
     "name": "stdout",
     "output_type": "stream",
     "text": [
      "tanu\n",
      "tanu\n",
      "tanu\n",
      "tanu\n",
      "tanu\n",
      "tanu\n",
      "tanu\n",
      "tanu\n",
      "tanu\n",
      "tanu\n"
     ]
    }
   ],
   "source": [
    "\n",
    "for n in range(10):\n",
    "    print('tanu')"
   ]
  },
  {
   "cell_type": "code",
   "execution_count": 23,
   "id": "fd0526d1-1661-4c89-9124-178981324d6e",
   "metadata": {},
   "outputs": [
    {
     "name": "stdout",
     "output_type": "stream",
     "text": [
      "tanu\n",
      "Aditya\n"
     ]
    }
   ],
   "source": [
    "for n in 'tanu','Aditya':\n",
    "    print(n)"
   ]
  },
  {
   "cell_type": "code",
   "execution_count": 24,
   "id": "8010b2a8-42a1-4074-8187-0c03b981e173",
   "metadata": {},
   "outputs": [
    {
     "name": "stdout",
     "output_type": "stream",
     "text": [
      "23\n",
      "45\n",
      "32\n",
      "21\n",
      "67\n",
      "loop ended\n"
     ]
    }
   ],
   "source": [
    "l=[23,45,32,21,67]\n",
    "for n in l:\n",
    "    print(n)\n",
    "else:\n",
    "    print('loop ended')"
   ]
  },
  {
   "cell_type": "code",
   "execution_count": 30,
   "id": "6c59e08e-d174-40f7-bfa8-47c5ee37edb5",
   "metadata": {},
   "outputs": [
    {
     "name": "stdin",
     "output_type": "stream",
     "text": [
      "enter no. 5\n"
     ]
    },
    {
     "name": "stdout",
     "output_type": "stream",
     "text": [
      "120\n"
     ]
    }
   ],
   "source": [
    "num=int(input(\"enter no.\"))\n",
    "fact=1\n",
    "for n in range(1,num+1):\n",
    "    fact=fact*n\n",
    "\n",
    "print(fact)\n",
    "    "
   ]
  },
  {
   "cell_type": "code",
   "execution_count": 37,
   "id": "13198ba2-1193-46fe-90e5-48d14a2c8a6a",
   "metadata": {},
   "outputs": [
    {
     "name": "stdout",
     "output_type": "stream",
     "text": [
      "5\n"
     ]
    }
   ],
   "source": [
    "for n in range(1,10):\n",
    "    if n==5:\n",
    "        print(n)\n",
    "        break\n",
    "    "
   ]
  },
  {
   "cell_type": "code",
   "execution_count": 39,
   "id": "eccf8207-73cd-4d9e-8e9a-a847280dac4a",
   "metadata": {},
   "outputs": [
    {
     "name": "stdout",
     "output_type": "stream",
     "text": [
      "1\n",
      "2\n",
      "3\n",
      "4\n",
      "6\n",
      "7\n",
      "8\n",
      "9\n"
     ]
    }
   ],
   "source": [
    "for n in range(1,10):\n",
    "    if n==5:\n",
    "       continue\n",
    "    print(n)"
   ]
  },
  {
   "cell_type": "code",
   "execution_count": 45,
   "id": "f266f43a-ff3a-4907-84b6-ee2069f621e3",
   "metadata": {},
   "outputs": [
    {
     "name": "stdout",
     "output_type": "stream",
     "text": [
      "1\n",
      "3\n",
      "5\n",
      "7\n",
      "9\n",
      "11\n"
     ]
    }
   ],
   "source": [
    "for i in range(1,13):\n",
    "    if i%2==0:\n",
    "        continue\n",
    "    print(i)"
   ]
  },
  {
   "cell_type": "code",
   "execution_count": 46,
   "id": "9b89b162-7c05-48a6-990e-8d04132c0cf2",
   "metadata": {},
   "outputs": [],
   "source": [
    "num=5\n",
    "if num>1:\n",
    "    pass"
   ]
  },
  {
   "cell_type": "code",
   "execution_count": 51,
   "id": "3749c26a-67c9-425c-ab6c-134f0c061108",
   "metadata": {},
   "outputs": [],
   "source": [
    "\n",
    "for n in range(1,4):\n",
    "    for n in range(4,1):\n",
    "        print('*')\n"
   ]
  },
  {
   "cell_type": "code",
   "execution_count": 55,
   "id": "e760c54a-cfa7-45fd-86d9-58a556d728c0",
   "metadata": {},
   "outputs": [
    {
     "name": "stdout",
     "output_type": "stream",
     "text": [
      "\t\n",
      "* \t\n",
      "* * \t\n",
      "* * * \t\n",
      "* * * * \t\n",
      "* * * * * "
     ]
    }
   ],
   "source": [
    "row=5\n",
    "for i in range(1,row+1):\n",
    "    print('\\t')\n",
    "    for j in range(i):\n",
    "        print('*',end=' ')"
   ]
  },
  {
   "cell_type": "code",
   "execution_count": null,
   "id": "1befa863-6ea7-4f68-a861-4848e94dd763",
   "metadata": {},
   "outputs": [],
   "source": []
  }
 ],
 "metadata": {
  "kernelspec": {
   "display_name": "Python 3 (ipykernel)",
   "language": "python",
   "name": "python3"
  },
  "language_info": {
   "codemirror_mode": {
    "name": "ipython",
    "version": 3
   },
   "file_extension": ".py",
   "mimetype": "text/x-python",
   "name": "python",
   "nbconvert_exporter": "python",
   "pygments_lexer": "ipython3",
   "version": "3.11.7"
  }
 },
 "nbformat": 4,
 "nbformat_minor": 5
}
