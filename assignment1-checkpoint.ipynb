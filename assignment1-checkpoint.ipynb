{
 "cells": [
  {
   "cell_type": "code",
   "execution_count": null,
   "id": "2e3bb2a2-1bec-4fe5-af24-0f8f286fadd4",
   "metadata": {},
   "outputs": [],
   "source": [
    "#1 converte days in week,mont and year"
   ]
  },
  {
   "cell_type": "code",
   "execution_count": 1,
   "id": "30abf2d8-39c8-45b4-946e-834c4523d5ae",
   "metadata": {},
   "outputs": [
    {
     "name": "stdin",
     "output_type": "stream",
     "text": [
      "enter days 365\n"
     ]
    },
    {
     "name": "stdout",
     "output_type": "stream",
     "text": [
      "conversion is 1.0 : 0\n"
     ]
    }
   ],
   "source": [
    "days=int(input('enter days'))\n",
    "years=days/365\n",
    "remaining_days=days%365\n",
    "week=remaining_days//7\n",
    "days_left=remaining_days%7\n",
    "print('conversion is',years,':',days_left)"
   ]
  },
  {
   "cell_type": "code",
   "execution_count": null,
   "id": "8bc4947c-e7ae-40ec-9049-ea0fca7c56d3",
   "metadata": {},
   "outputs": [],
   "source": [
    "#2 calculate gross salary"
   ]
  },
  {
   "cell_type": "code",
   "execution_count": 2,
   "id": "cef596a9-c285-4de3-8939-e10b0c03596c",
   "metadata": {},
   "outputs": [
    {
     "name": "stdin",
     "output_type": "stream",
     "text": [
      "enter basic salary 23000\n"
     ]
    },
    {
     "name": "stdout",
     "output_type": "stream",
     "text": [
      "gross salary: 52900.0\n"
     ]
    }
   ],
   "source": [
    "basic_salary=float(input('enter basic salary'))\n",
    "if basic_salary<=10000:\n",
    "    hra=0.2*basic_salary\n",
    "    da=0.8*basic_salary\n",
    "elif basic_salary<=20000:\n",
    "    hra=0.3*basic_salary\n",
    "    da=0.9*basic_salary\n",
    "else:\n",
    "    hra=0.35*basic_salary\n",
    "    da=0.95*basic_salary\n",
    "    gross_salary=basic_salary+hra+da\n",
    "    \n",
    "print('gross salary:',gross_salary)"
   ]
  },
  {
   "cell_type": "code",
   "execution_count": null,
   "id": "399636cd-4e09-49e2-b644-75f87481f524",
   "metadata": {},
   "outputs": [],
   "source": [
    "#3 calculate total electicity bill"
   ]
  },
  {
   "cell_type": "code",
   "execution_count": 2,
   "id": "9e490f4f-34a9-49b6-8499-f4c43bc18442",
   "metadata": {},
   "outputs": [
    {
     "name": "stdin",
     "output_type": "stream",
     "text": [
      "enter the number of electricity units: 200\n"
     ]
    },
    {
     "ename": "NameError",
     "evalue": "name 'bill' is not defined",
     "output_type": "error",
     "traceback": [
      "\u001b[1;31m---------------------------------------------------------------------------\u001b[0m",
      "\u001b[1;31mNameError\u001b[0m                                 Traceback (most recent call last)",
      "Cell \u001b[1;32mIn[2], line 7\u001b[0m\n\u001b[0;32m      5\u001b[0m     bill\u001b[38;5;241m=\u001b[39m(\u001b[38;5;241m50\u001b[39m\u001b[38;5;241m*\u001b[39m\u001b[38;5;241m0.50\u001b[39m)\u001b[38;5;241m+\u001b[39m((units\u001b[38;5;241m-\u001b[39m\u001b[38;5;241m50\u001b[39m)\u001b[38;5;241m*\u001b[39m\u001b[38;5;241m0.75\u001b[39m)\n\u001b[0;32m      6\u001b[0m \u001b[38;5;28;01melif\u001b[39;00m units\u001b[38;5;241m<\u001b[39m\u001b[38;5;241m=\u001b[39m\u001b[38;5;241m250\u001b[39m:\n\u001b[1;32m----> 7\u001b[0m     bill(\u001b[38;5;241m50\u001b[39m\u001b[38;5;241m*\u001b[39m\u001b[38;5;241m0.50\u001b[39m)\u001b[38;5;241m+\u001b[39m(\u001b[38;5;241m100\u001b[39m\u001b[38;5;241m*\u001b[39m\u001b[38;5;241m0.75\u001b[39m)\u001b[38;5;241m+\u001b[39m((units\u001b[38;5;241m-\u001b[39m\u001b[38;5;241m150\u001b[39m)\u001b[38;5;241m*\u001b[39m\u001b[38;5;241m1.25\u001b[39m)\n\u001b[0;32m      8\u001b[0m \u001b[38;5;28;01melse\u001b[39;00m:\n\u001b[0;32m      9\u001b[0m     bill\u001b[38;5;241m=\u001b[39m(\u001b[38;5;241m50\u001b[39m\u001b[38;5;241m*\u001b[39m\u001b[38;5;241m0.50\u001b[39m)\u001b[38;5;241m+\u001b[39m(\u001b[38;5;241m100\u001b[39m\u001b[38;5;241m*\u001b[39m\u001b[38;5;241m0.75\u001b[39m)\u001b[38;5;241m+\u001b[39m(\u001b[38;5;241m100\u001b[39m\u001b[38;5;241m*\u001b[39m\u001b[38;5;241m1.25\u001b[39m)\u001b[38;5;241m+\u001b[39m((units\u001b[38;5;241m-\u001b[39m\u001b[38;5;241m250\u001b[39m)\u001b[38;5;241m*\u001b[39m\u001b[38;5;241m1.50\u001b[39m)\n",
      "\u001b[1;31mNameError\u001b[0m: name 'bill' is not defined"
     ]
    }
   ],
   "source": [
    "units=float(input('enter the number of electricity units:'))\n",
    "if units<=50:\n",
    "    bill=units*0.50\n",
    "elif units<=150:\n",
    "    bill=(50*0.50)+((units-50)*0.75)\n",
    "elif units<=250:\n",
    "    bill(50*0.50)+(100*0.75)+((units-150)*1.25)\n",
    "else:\n",
    "    bill=(50*0.50)+(100*0.75)+(100*1.25)+((units-250)*1.50)\n",
    "    surcharge=bill*0.17\n",
    "    total_bill=bill+surcharge\n",
    "   \n",
    "print('total electricity bill=',total_bill)"
   ]
  },
  {
   "cell_type": "code",
   "execution_count": null,
   "id": "263bd546-a434-4896-90ce-69491917dcbe",
   "metadata": {},
   "outputs": [],
   "source": [
    "#4 display given number pattern"
   ]
  },
  {
   "cell_type": "code",
   "execution_count": 6,
   "id": "06aa14b3-3ea5-4573-b8c0-9e0e791902c4",
   "metadata": {},
   "outputs": [
    {
     "name": "stdout",
     "output_type": "stream",
     "text": [
      "\n",
      "1 \n",
      "2 2 \n",
      "3 3 3 \n",
      "4 4 4 4 \n",
      "5 5 5 5 5 "
     ]
    }
   ],
   "source": [
    "row=5\n",
    "for i in range(1,row+1):\n",
    "    print()\n",
    "    for j in range(i):\n",
    "        print(i,end=\" \")\n",
    "            "
   ]
  },
  {
   "cell_type": "code",
   "execution_count": null,
   "id": "ac3a2ef4-cbc3-4f2b-afb5-d2222f9eb75d",
   "metadata": {},
   "outputs": [],
   "source": [
    "#5 product of digit of number"
   ]
  },
  {
   "cell_type": "code",
   "execution_count": 10,
   "id": "1d02c3e2-c11a-4922-8f15-91f12dc7a1fa",
   "metadata": {},
   "outputs": [
    {
     "name": "stdin",
     "output_type": "stream",
     "text": [
      "enter number 123\n"
     ]
    },
    {
     "name": "stdout",
     "output_type": "stream",
     "text": [
      "6\n"
     ]
    }
   ],
   "source": [
    "num=int(input(\"enter number\"))\n",
    "mul=1\n",
    "while num>0:\n",
    "    rem=num%10\n",
    "    mul=mul*rem\n",
    "    num=num//10\n",
    "else:\n",
    "    print(mul)"
   ]
  },
  {
   "cell_type": "code",
   "execution_count": null,
   "id": "bc31248a-4f0a-4363-aae6-6c507c73c1fc",
   "metadata": {},
   "outputs": [],
   "source": [
    "#6 create list"
   ]
  },
  {
   "cell_type": "code",
   "execution_count": null,
   "id": "05dac319-acf9-4dff-9154-81ec991a26bc",
   "metadata": {},
   "outputs": [],
   "source": [
    "#1"
   ]
  },
  {
   "cell_type": "code",
   "execution_count": 11,
   "id": "68508729-447f-45da-a324-35d23c77efc2",
   "metadata": {},
   "outputs": [
    {
     "data": {
      "text/plain": [
       "[45, 67, 12, 'hello', 23.45, 'world']"
      ]
     },
     "execution_count": 11,
     "metadata": {},
     "output_type": "execute_result"
    }
   ],
   "source": [
    "x=[45,67,12,'hello',23.45,'world']\n",
    "x"
   ]
  },
  {
   "cell_type": "code",
   "execution_count": null,
   "id": "e984c765-1c02-4ffc-853b-a044bdc5d24d",
   "metadata": {},
   "outputs": [],
   "source": [
    "#2"
   ]
  },
  {
   "cell_type": "code",
   "execution_count": 15,
   "id": "10aae493-197c-4bb9-a058-18fa87543d71",
   "metadata": {},
   "outputs": [
    {
     "name": "stdout",
     "output_type": "stream",
     "text": [
      "['hello', 'world']\n"
     ]
    }
   ],
   "source": [
    "x1=[]\n",
    "for n in x:\n",
    "    if type(n)==str:\n",
    "        x1.append(n)\n",
    "print(x1)"
   ]
  },
  {
   "cell_type": "code",
   "execution_count": null,
   "id": "c114fedc-d60d-44e9-9b57-25fb96156c08",
   "metadata": {},
   "outputs": [],
   "source": [
    "#3"
   ]
  },
  {
   "cell_type": "code",
   "execution_count": 14,
   "id": "efa26407-1726-4a46-8053-6684b506fc75",
   "metadata": {},
   "outputs": [
    {
     "name": "stdout",
     "output_type": "stream",
     "text": [
      "['HELLO', 'WORLD']\n"
     ]
    }
   ],
   "source": [
    "x2=[]\n",
    "for n in x:\n",
    "    if type(n)==str:\n",
    "        x2.append(n.upper())\n",
    "print (x2)"
   ]
  },
  {
   "cell_type": "code",
   "execution_count": null,
   "id": "26d7c380-5ec6-49bb-8c87-15a9fc7c8538",
   "metadata": {},
   "outputs": [],
   "source": [
    "#4"
   ]
  },
  {
   "cell_type": "code",
   "execution_count": 20,
   "id": "98314d9c-17ce-4e12-b955-15a3cfd36588",
   "metadata": {},
   "outputs": [
    {
     "name": "stdout",
     "output_type": "stream",
     "text": [
      "sum of integer 124\n"
     ]
    }
   ],
   "source": [
    "integer=[element for element in x if isinstance(element,int)]\n",
    "sum=sum(integer)\n",
    "print('sum of integer',sum)"
   ]
  },
  {
   "cell_type": "code",
   "execution_count": null,
   "id": "6d9162ba-9101-4498-a8c3-2eedd0556994",
   "metadata": {},
   "outputs": [],
   "source": [
    "#5"
   ]
  },
  {
   "cell_type": "code",
   "execution_count": 21,
   "id": "21265ca2-aed8-4228-b0e1-7bc6839ac7db",
   "metadata": {},
   "outputs": [
    {
     "data": {
      "text/plain": [
       "False"
      ]
     },
     "execution_count": 21,
     "metadata": {},
     "output_type": "execute_result"
    }
   ],
   "source": [
    "56 in x"
   ]
  },
  {
   "cell_type": "code",
   "execution_count": null,
   "id": "1c582d58-0daa-48e0-9f9f-58c06fab36fd",
   "metadata": {},
   "outputs": [],
   "source": [
    "#6"
   ]
  },
  {
   "cell_type": "code",
   "execution_count": 22,
   "id": "41a6a0d2-94eb-4b45-9779-89f74273493a",
   "metadata": {},
   "outputs": [
    {
     "data": {
      "text/plain": [
       "['world', 23.45, 'hello', 12, 67, 45]"
      ]
     },
     "execution_count": 22,
     "metadata": {},
     "output_type": "execute_result"
    }
   ],
   "source": [
    "x[::-1]"
   ]
  },
  {
   "cell_type": "code",
   "execution_count": null,
   "id": "c893157c-788b-463b-8696-1ae95b3d1d93",
   "metadata": {},
   "outputs": [],
   "source": [
    "#7"
   ]
  },
  {
   "cell_type": "code",
   "execution_count": 26,
   "id": "aa8c2de4-1ecf-4ab5-8ecf-fb89979bd37f",
   "metadata": {},
   "outputs": [
    {
     "name": "stdout",
     "output_type": "stream",
     "text": [
      "[45, 67, 12, 23.45, 'world']\n"
     ]
    }
   ],
   "source": [
    "if 'hello' in x:\n",
    "     x.remove('hello')\n",
    "print(x)"
   ]
  },
  {
   "cell_type": "code",
   "execution_count": null,
   "id": "39359cc6-d904-4f9d-9909-54311977f759",
   "metadata": {},
   "outputs": [],
   "source": [
    "#8"
   ]
  },
  {
   "cell_type": "code",
   "execution_count": 27,
   "id": "b30f1bf1-cb67-4bbe-a5e1-cf5b35acdd97",
   "metadata": {},
   "outputs": [
    {
     "name": "stdout",
     "output_type": "stream",
     "text": [
      "[45, 67, 12, 23.45, 36, 'world']\n"
     ]
    }
   ],
   "source": [
    "x.insert(4,36)\n",
    "print(x)"
   ]
  },
  {
   "cell_type": "code",
   "execution_count": null,
   "id": "7385a639-b7e5-456f-9fe2-2ba33078d195",
   "metadata": {},
   "outputs": [],
   "source": [
    "#9"
   ]
  },
  {
   "cell_type": "code",
   "execution_count": 28,
   "id": "39d63b01-6814-41ab-8f47-f08e99e0c247",
   "metadata": {},
   "outputs": [
    {
     "data": {
      "text/plain": [
       "6"
      ]
     },
     "execution_count": 28,
     "metadata": {},
     "output_type": "execute_result"
    }
   ],
   "source": [
    "len(x)"
   ]
  },
  {
   "cell_type": "code",
   "execution_count": null,
   "id": "f85e2405-3822-40e6-9423-84224080f4c2",
   "metadata": {},
   "outputs": [],
   "source": [
    "#10"
   ]
  },
  {
   "cell_type": "code",
   "execution_count": 29,
   "id": "e9f0d632-3663-4d11-9774-fd39894ba1ee",
   "metadata": {},
   "outputs": [
    {
     "name": "stdout",
     "output_type": "stream",
     "text": [
      "[12, 23.45, 36, 'world']\n"
     ]
    }
   ],
   "source": [
    "n=x[2:6]\n",
    "print(n)"
   ]
  },
  {
   "cell_type": "code",
   "execution_count": null,
   "id": "0fef1e37-cafd-4dca-aa39-d3e046d5d83e",
   "metadata": {},
   "outputs": [],
   "source": [
    "#11"
   ]
  },
  {
   "cell_type": "code",
   "execution_count": 31,
   "id": "4390e6b5-afa5-40e6-85eb-203c7a281d71",
   "metadata": {},
   "outputs": [
    {
     "name": "stdout",
     "output_type": "stream",
     "text": [
      "[45, 67, 12, 23.45, 36, 'world', [34, 'pune']]\n"
     ]
    }
   ],
   "source": [
    "x.append([34,'pune'])\n",
    "print(x)"
   ]
  },
  {
   "cell_type": "code",
   "execution_count": null,
   "id": "54e5605d-119f-4e66-a0a8-4a1827f1258e",
   "metadata": {},
   "outputs": [],
   "source": [
    "#12"
   ]
  },
  {
   "cell_type": "code",
   "execution_count": 32,
   "id": "cd57b24e-2894-4f14-bfef-acfbb0e31740",
   "metadata": {},
   "outputs": [
    {
     "data": {
      "text/plain": [
       "[34, 'pune']"
      ]
     },
     "execution_count": 32,
     "metadata": {},
     "output_type": "execute_result"
    }
   ],
   "source": [
    "x.pop()"
   ]
  },
  {
   "cell_type": "code",
   "execution_count": null,
   "id": "1e89e906-bbef-489b-9270-655c3d496c1d",
   "metadata": {},
   "outputs": [],
   "source": [
    "#7 create tuple with 5 float values"
   ]
  },
  {
   "cell_type": "code",
   "execution_count": 33,
   "id": "9b66b4f3-af84-464d-ab4d-55c8cbf59b9a",
   "metadata": {},
   "outputs": [],
   "source": [
    "t=(1.1,2.2,5.5,4.4,3.3)\n"
   ]
  },
  {
   "cell_type": "code",
   "execution_count": 34,
   "id": "6adab51f-1dbf-44a7-be9f-f43982a93a08",
   "metadata": {},
   "outputs": [
    {
     "data": {
      "text/plain": [
       "tuple"
      ]
     },
     "execution_count": 34,
     "metadata": {},
     "output_type": "execute_result"
    }
   ],
   "source": [
    "type(t)"
   ]
  },
  {
   "cell_type": "code",
   "execution_count": null,
   "id": "93ac61bd-8a6f-4b15-ab8b-9c1099080e79",
   "metadata": {},
   "outputs": [],
   "source": [
    "#1"
   ]
  },
  {
   "cell_type": "code",
   "execution_count": 35,
   "id": "5b64f556-4cad-4bfd-bc79-687aa5267294",
   "metadata": {},
   "outputs": [
    {
     "data": {
      "text/plain": [
       "[1.1, 2.2, 3.3, 4.4, 5.5]"
      ]
     },
     "execution_count": 35,
     "metadata": {},
     "output_type": "execute_result"
    }
   ],
   "source": [
    "sorted(t)"
   ]
  },
  {
   "cell_type": "code",
   "execution_count": null,
   "id": "f29b3778-7147-45b9-822b-0e04d6c0350a",
   "metadata": {},
   "outputs": [],
   "source": [
    "#2"
   ]
  },
  {
   "cell_type": "code",
   "execution_count": 36,
   "id": "d1f29ee4-3aaa-461c-8869-90ed6d9cd026",
   "metadata": {},
   "outputs": [
    {
     "data": {
      "text/plain": [
       "False"
      ]
     },
     "execution_count": 36,
     "metadata": {},
     "output_type": "execute_result"
    }
   ],
   "source": [
    "50 in t"
   ]
  },
  {
   "cell_type": "code",
   "execution_count": null,
   "id": "a75678bf-a360-4129-882a-552bf3812a76",
   "metadata": {},
   "outputs": [],
   "source": [
    "#3"
   ]
  },
  {
   "cell_type": "code",
   "execution_count": 37,
   "id": "2f7c853e-1720-44e4-a0bf-366bb8e93938",
   "metadata": {},
   "outputs": [
    {
     "name": "stdout",
     "output_type": "stream",
     "text": [
      "{1.1, 2.2, 3.3, 4.4, 5.5}\n"
     ]
    }
   ],
   "source": [
    "float_set=set(t)\n",
    "print(float_set)"
   ]
  },
  {
   "cell_type": "code",
   "execution_count": null,
   "id": "b1ead97e-8092-41dd-9c17-a21324f86f02",
   "metadata": {},
   "outputs": [],
   "source": [
    "#8 create dictionary"
   ]
  },
  {
   "cell_type": "code",
   "execution_count": 38,
   "id": "d0663dac-18a4-4f15-84cf-c7cbfe111ebf",
   "metadata": {},
   "outputs": [],
   "source": [
    "d={'a':'apple','b':'ball','c':'cat','d':'doll','k':'kimg'}"
   ]
  },
  {
   "cell_type": "code",
   "execution_count": null,
   "id": "4a83b50d-b711-47f0-a1a2-76ac4fd8edc1",
   "metadata": {},
   "outputs": [],
   "source": [
    "#1"
   ]
  },
  {
   "cell_type": "code",
   "execution_count": 39,
   "id": "23cee4d9-d8b0-4688-93a2-6387a63e2a17",
   "metadata": {},
   "outputs": [
    {
     "name": "stdout",
     "output_type": "stream",
     "text": [
      "kimg\n"
     ]
    }
   ],
   "source": [
    "k=d['k']\n",
    "print(k)"
   ]
  },
  {
   "cell_type": "code",
   "execution_count": null,
   "id": "6fd042ff-4c22-4c0e-9cc6-25df71353e08",
   "metadata": {},
   "outputs": [],
   "source": [
    "#2"
   ]
  },
  {
   "cell_type": "code",
   "execution_count": 40,
   "id": "7d239e6e-3fb9-4521-827b-ed974ff610d9",
   "metadata": {},
   "outputs": [
    {
     "name": "stdout",
     "output_type": "stream",
     "text": [
      "{'a': 'apple', 'b': 'ball', 'c': 'cat', 'd': 'doll', 'k': 'kimg', 'z': 'zebra'}\n"
     ]
    }
   ],
   "source": [
    "d['z']='zebra'\n",
    "print(d)"
   ]
  },
  {
   "cell_type": "code",
   "execution_count": null,
   "id": "fbedea6a-9731-41aa-aec2-1b552a7acc83",
   "metadata": {},
   "outputs": [],
   "source": [
    "#3"
   ]
  },
  {
   "cell_type": "code",
   "execution_count": 41,
   "id": "acbbae20-e66d-409b-a5a3-ac77658ad801",
   "metadata": {},
   "outputs": [
    {
     "name": "stdout",
     "output_type": "stream",
     "text": [
      "{'a': 'apple', 'b': 'ball', 'c': 'cat', 'd': 'dog', 'k': 'kimg', 'z': 'zebra'}\n"
     ]
    }
   ],
   "source": [
    "d['d']='dog'\n",
    "print(d)"
   ]
  },
  {
   "cell_type": "code",
   "execution_count": null,
   "id": "b17659f5-082f-46b6-ab04-1d12c2fdf21c",
   "metadata": {},
   "outputs": [],
   "source": [
    "#4"
   ]
  },
  {
   "cell_type": "code",
   "execution_count": 49,
   "id": "23c11fc9-2521-403a-8755-63de698cd371",
   "metadata": {},
   "outputs": [
    {
     "name": "stdout",
     "output_type": "stream",
     "text": [
      "{'a': 'apple', 'b': 'ball', 'c': 'cat', 'd': 'dog', 'k': 'kimg', 'z': 'zebra'}\n"
     ]
    }
   ],
   "source": [
    "print(d)"
   ]
  },
  {
   "cell_type": "code",
   "execution_count": null,
   "id": "6ae56489-bce0-4163-a0c3-317a2df246bd",
   "metadata": {},
   "outputs": [],
   "source": [
    "#5"
   ]
  },
  {
   "cell_type": "code",
   "execution_count": 42,
   "id": "3b1558eb-d45a-48e9-9d70-45173ee49b47",
   "metadata": {},
   "outputs": [
    {
     "data": {
      "text/plain": [
       "6"
      ]
     },
     "execution_count": 42,
     "metadata": {},
     "output_type": "execute_result"
    }
   ],
   "source": [
    "len(d)"
   ]
  },
  {
   "cell_type": "code",
   "execution_count": null,
   "id": "4996baa4-625b-430d-8de0-658805e9446e",
   "metadata": {},
   "outputs": [],
   "source": [
    "#9 find the second largest element from the list"
   ]
  },
  {
   "cell_type": "code",
   "execution_count": 43,
   "id": "08a1af45-9a35-48c2-b581-52df86e9c2b5",
   "metadata": {},
   "outputs": [],
   "source": [
    "list=[56,67,98,34]"
   ]
  },
  {
   "cell_type": "code",
   "execution_count": 46,
   "id": "7ca50515-d544-418b-8ee8-24961af279c8",
   "metadata": {},
   "outputs": [
    {
     "name": "stdout",
     "output_type": "stream",
     "text": [
      "98\n"
     ]
    }
   ],
   "source": [
    "sorted(list)\n",
    "print(list[-2])"
   ]
  },
  {
   "cell_type": "code",
   "execution_count": null,
   "id": "c71f8c6b-2200-44ea-9d70-2e80bbcd2e77",
   "metadata": {},
   "outputs": [],
   "source": [
    "#10 list metalic element "
   ]
  },
  {
   "cell_type": "code",
   "execution_count": 47,
   "id": "332bc0e0-8a8b-4c75-ad5d-665ee2300b4d",
   "metadata": {},
   "outputs": [],
   "source": [
    "m=['gold','silver','copper','iron','silica','platinum','aluminum']"
   ]
  },
  {
   "cell_type": "code",
   "execution_count": 48,
   "id": "5fc17b5c-a512-467b-bba0-872b142f41ab",
   "metadata": {},
   "outputs": [
    {
     "name": "stdout",
     "output_type": "stream",
     "text": [
      "['gold', 'silver', 'iron', 'silica', 'platinum', 'aluminum']\n"
     ]
    }
   ],
   "source": [
    "n_metal=[m for m in m if m!='copper']\n",
    "print(n_metal)"
   ]
  },
  {
   "cell_type": "code",
   "execution_count": null,
   "id": "d8672335-f6a4-4c89-9fd8-00bc82de13a5",
   "metadata": {},
   "outputs": [],
   "source": []
  }
 ],
 "metadata": {
  "kernelspec": {
   "display_name": "Python 3 (ipykernel)",
   "language": "python",
   "name": "python3"
  },
  "language_info": {
   "codemirror_mode": {
    "name": "ipython",
    "version": 3
   },
   "file_extension": ".py",
   "mimetype": "text/x-python",
   "name": "python",
   "nbconvert_exporter": "python",
   "pygments_lexer": "ipython3",
   "version": "3.11.7"
  }
 },
 "nbformat": 4,
 "nbformat_minor": 5
}
