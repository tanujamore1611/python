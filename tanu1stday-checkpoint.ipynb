{
 "cells": [
  {
   "cell_type": "code",
   "execution_count": 1,
   "id": "54589594-e6ea-4bb6-976a-895af2f5445e",
   "metadata": {},
   "outputs": [
    {
     "name": "stdout",
     "output_type": "stream",
     "text": [
      "Hello world\n"
     ]
    }
   ],
   "source": [
    "print(\"Hello world\")"
   ]
  },
  {
   "cell_type": "code",
   "execution_count": 2,
   "id": "c4c4509e-8ee7-453d-a535-85a60e165b4f",
   "metadata": {},
   "outputs": [
    {
     "name": "stdout",
     "output_type": "stream",
     "text": [
      "tanu\n"
     ]
    }
   ],
   "source": [
    "print(\"tanu\")"
   ]
  },
  {
   "cell_type": "code",
   "execution_count": 3,
   "id": "50540fc7-ece1-4f4d-afb9-6ea0dffa53d1",
   "metadata": {},
   "outputs": [
    {
     "name": "stdout",
     "output_type": "stream",
     "text": [
      "18\n"
     ]
    }
   ],
   "source": [
    "num=18\n",
    "print(num)"
   ]
  },
  {
   "cell_type": "code",
   "execution_count": 41,
   "id": "df7c8106-a2e8-40bf-ad94-d195c53e2ff4",
   "metadata": {},
   "outputs": [
    {
     "data": {
      "text/plain": [
       "12000.0"
      ]
     },
     "execution_count": 41,
     "metadata": {},
     "output_type": "execute_result"
    }
   ],
   "source": [
    "num"
   ]
  },
  {
   "cell_type": "code",
   "execution_count": 42,
   "id": "5754709e-0e4f-4595-9da3-8bd5d0f53b6f",
   "metadata": {},
   "outputs": [
    {
     "name": "stdout",
     "output_type": "stream",
     "text": [
      "20\n"
     ]
    }
   ],
   "source": [
    "num1=20\n",
    "print(num1)"
   ]
  },
  {
   "cell_type": "code",
   "execution_count": 43,
   "id": "b09ab988-779c-48fd-a4b3-b5b4b8fea686",
   "metadata": {},
   "outputs": [
    {
     "name": "stdout",
     "output_type": "stream",
     "text": [
      "1\n"
     ]
    }
   ],
   "source": [
    "num=1\n",
    "print(num)"
   ]
  },
  {
   "cell_type": "code",
   "execution_count": 44,
   "id": "f615070e-8b3d-426b-ac4a-f402fe8f2d00",
   "metadata": {},
   "outputs": [
    {
     "ename": "SyntaxError",
     "evalue": "invalid syntax (2922910181.py, line 1)",
     "output_type": "error",
     "traceback": [
      "\u001b[1;36m  Cell \u001b[1;32mIn[44], line 1\u001b[1;36m\u001b[0m\n\u001b[1;33m    rate of interest=50\u001b[0m\n\u001b[1;37m         ^\u001b[0m\n\u001b[1;31mSyntaxError\u001b[0m\u001b[1;31m:\u001b[0m invalid syntax\n"
     ]
    }
   ],
   "source": [
    "rate of interest=50\n",
    "cell In[8], line 1\n",
    "rate of interest=50"
   ]
  },
  {
   "cell_type": "code",
   "execution_count": 45,
   "id": "e131c0cd-7c8f-476e-8ecf-0f020ef75667",
   "metadata": {},
   "outputs": [
    {
     "name": "stdout",
     "output_type": "stream",
     "text": [
      "aditya\n"
     ]
    }
   ],
   "source": [
    "num3='aditya'\n",
    "print (num3)"
   ]
  },
  {
   "cell_type": "code",
   "execution_count": 46,
   "id": "a7d3d13c-5a0d-4cf8-928a-17583e19b9cb",
   "metadata": {},
   "outputs": [
    {
     "data": {
      "text/plain": [
       "int"
      ]
     },
     "execution_count": 46,
     "metadata": {},
     "output_type": "execute_result"
    }
   ],
   "source": [
    "num1=5\n",
    "num2=5.6\n",
    "num3='aditya'\n",
    "type(num1)"
   ]
  },
  {
   "cell_type": "code",
   "execution_count": 47,
   "id": "e86d6c51-1754-43da-b8a5-071780d4fa66",
   "metadata": {},
   "outputs": [
    {
     "data": {
      "text/plain": [
       "float"
      ]
     },
     "execution_count": 47,
     "metadata": {},
     "output_type": "execute_result"
    }
   ],
   "source": [
    "type(num2)"
   ]
  },
  {
   "cell_type": "code",
   "execution_count": 48,
   "id": "13cb4bf3-b762-4fb7-abe4-741ff1b73612",
   "metadata": {},
   "outputs": [
    {
     "data": {
      "text/plain": [
       "str"
      ]
     },
     "execution_count": 48,
     "metadata": {},
     "output_type": "execute_result"
    }
   ],
   "source": [
    "type(num3)"
   ]
  },
  {
   "cell_type": "code",
   "execution_count": 49,
   "id": "23082cf6-47f0-4be8-995d-689b1523a1cf",
   "metadata": {},
   "outputs": [],
   "source": [
    "pass1=67.32\n"
   ]
  },
  {
   "cell_type": "code",
   "execution_count": 50,
   "id": "76c12c3d-71fa-4a4c-9770-7af58d145ea1",
   "metadata": {},
   "outputs": [],
   "source": [
    "num=35"
   ]
  },
  {
   "cell_type": "code",
   "execution_count": 51,
   "id": "6ed4b0ef-1320-4878-8271-332fb2246b15",
   "metadata": {},
   "outputs": [
    {
     "data": {
      "text/plain": [
       "50"
      ]
     },
     "execution_count": 51,
     "metadata": {},
     "output_type": "execute_result"
    }
   ],
   "source": [
    "num+15"
   ]
  },
  {
   "cell_type": "code",
   "execution_count": 52,
   "id": "05bea339-24d2-4e45-9b21-abb140ff985e",
   "metadata": {},
   "outputs": [
    {
     "data": {
      "text/plain": [
       "35"
      ]
     },
     "execution_count": 52,
     "metadata": {},
     "output_type": "execute_result"
    }
   ],
   "source": [
    "num"
   ]
  },
  {
   "cell_type": "code",
   "execution_count": 10,
   "id": "5e2bfdbc-efb4-41d1-9500-6211e054cb34",
   "metadata": {},
   "outputs": [
    {
     "data": {
      "text/plain": [
       "338273323149404304922890225058575626670623474949393095944430881956269615193808395209126614405860148467625388384541133238052137759277082878126180554820318598234205838457166478845766661680216230238616340578886192439442298744009771725871978121135916266860015325837998984872902572547922479283094565628305478339655336358692473680171746890947936902300438931885334568615835805362818530723544193205029752719079820249743729733281444307604064875376079623077062441451026821296225844771211676348953650911902907383227218554177015371193123372611497956081864412171410521916718600743592166786971402536108477824921229465949425737379546551356278711971453398907116714500543441980006801628709688695456263741136144345315645212055477064206864216604927280484019966250493886780556624586168787853598836170370998035856987036487797502004327345394240077149924764958136087703948668467825487789016345871354820828555703268511226525757571035338289690451454137503036342125914664470182189714329969259825519685896937772363354396294378766392793167148350257918664462495907817744314014751183281354880170260342842216167843936423500930527610440444140323100216976188861663678806845207119541813549050528159885210664084559664267032711082922683957796589979897838551937012252437006185667414302103904306776141255528231545910511435979420612906078610174686468466744324615705772532466181162832088616307575210644110127899937700724786859522291245647054226745102872188962633945906412508489323499808128047548729944906935604672353554800569244442969776005832580683060488225707078366164038667402695293746551891430813448212414698824908064607256988299422715610614082521651151489333589160123331580999769467218383573327132133931655755667938615871864461504196744433065948347472216055152588870669012368043161098643727729956567104483312928340319195879913688370244984614116251860420356525515697189295349940095194201159310219263098090505025512937652480756165992231059775961650517639092447024838241425137916733864232946562894940048331765214490656584067373060242500453227355646649525855015661133749821716726007612602295936492330581092756092354976189962255451008225478316811501015501860769803873420913482282241366650081548347539547181723577467025281"
      ]
     },
     "execution_count": 10,
     "metadata": {},
     "output_type": "execute_result"
    }
   ],
   "source": [
    "num=2677275588643178899747987983766936966868669623**48\n",
    "num"
   ]
  },
  {
   "cell_type": "code",
   "execution_count": 53,
   "id": "9425a323-0729-4550-b636-98e9ffe7bc70",
   "metadata": {},
   "outputs": [
    {
     "data": {
      "text/plain": [
       "'aditya'"
      ]
     },
     "execution_count": 53,
     "metadata": {},
     "output_type": "execute_result"
    }
   ],
   "source": [
    "name='Aditya'\n",
    "name.lower()"
   ]
  },
  {
   "cell_type": "code",
   "execution_count": 54,
   "id": "503aea1c-e1a8-4ce1-9ea5-e0dffe719f8b",
   "metadata": {},
   "outputs": [
    {
     "data": {
      "text/plain": [
       "'ADITYA'"
      ]
     },
     "execution_count": 54,
     "metadata": {},
     "output_type": "execute_result"
    }
   ],
   "source": [
    "name.upper()"
   ]
  },
  {
   "cell_type": "code",
   "execution_count": 55,
   "id": "f02e1acd-344c-483c-b065-108c48fae10f",
   "metadata": {},
   "outputs": [
    {
     "data": {
      "text/plain": [
       "'aDITYA'"
      ]
     },
     "execution_count": 55,
     "metadata": {},
     "output_type": "execute_result"
    }
   ],
   "source": [
    "name.swapcase()"
   ]
  },
  {
   "cell_type": "code",
   "execution_count": 56,
   "id": "6fe524e8-e893-44a1-b174-cbb3baf98358",
   "metadata": {},
   "outputs": [
    {
     "data": {
      "text/plain": [
       "6"
      ]
     },
     "execution_count": 56,
     "metadata": {},
     "output_type": "execute_result"
    }
   ],
   "source": [
    "\n",
    "len(name)"
   ]
  },
  {
   "cell_type": "code",
   "execution_count": 57,
   "id": "71d4818c-ac4c-4438-a25f-e5a597e555b1",
   "metadata": {},
   "outputs": [
    {
     "data": {
      "text/plain": [
       "False"
      ]
     },
     "execution_count": 57,
     "metadata": {},
     "output_type": "execute_result"
    }
   ],
   "source": [
    "name.isupper()"
   ]
  },
  {
   "cell_type": "code",
   "execution_count": 58,
   "id": "07540416-7597-4126-af8c-84bc35803d32",
   "metadata": {},
   "outputs": [
    {
     "data": {
      "text/plain": [
       "False"
      ]
     },
     "execution_count": 58,
     "metadata": {},
     "output_type": "execute_result"
    }
   ],
   "source": [
    "name.islower()"
   ]
  },
  {
   "cell_type": "code",
   "execution_count": 59,
   "id": "aa31112e-1fe1-45fb-a9ae-fc7f4b68b20b",
   "metadata": {},
   "outputs": [
    {
     "data": {
      "text/plain": [
       "True"
      ]
     },
     "execution_count": 59,
     "metadata": {},
     "output_type": "execute_result"
    }
   ],
   "source": [
    "name.istitle()"
   ]
  },
  {
   "cell_type": "code",
   "execution_count": 60,
   "id": "9b5fc5e0-d7be-497c-8086-55201ae593d5",
   "metadata": {},
   "outputs": [
    {
     "data": {
      "text/plain": [
       "True"
      ]
     },
     "execution_count": 60,
     "metadata": {},
     "output_type": "execute_result"
    }
   ],
   "source": [
    "data1='Aditya'\n",
    "data2='1234'\n",
    "data3='adi123'\n",
    "data1.isalpha()"
   ]
  },
  {
   "cell_type": "code",
   "execution_count": 61,
   "id": "8fed1d86-ff1d-4702-8b9f-f29cddf090e7",
   "metadata": {},
   "outputs": [
    {
     "data": {
      "text/plain": [
       "False"
      ]
     },
     "execution_count": 61,
     "metadata": {},
     "output_type": "execute_result"
    }
   ],
   "source": [
    "data3.isalpha()"
   ]
  },
  {
   "cell_type": "code",
   "execution_count": 62,
   "id": "1bfcb608-442a-46ce-a8a4-b4d0e331cb78",
   "metadata": {},
   "outputs": [
    {
     "data": {
      "text/plain": [
       "True"
      ]
     },
     "execution_count": 62,
     "metadata": {},
     "output_type": "execute_result"
    }
   ],
   "source": [
    "data2.isdigit()"
   ]
  },
  {
   "cell_type": "code",
   "execution_count": 63,
   "id": "e36a063e-bb4f-4e39-bc12-2822d3f463b6",
   "metadata": {},
   "outputs": [
    {
     "name": "stdout",
     "output_type": "stream",
     "text": [
      " Aditya \n"
     ]
    }
   ],
   "source": [
    "name=' Aditya '\n",
    "print(name)"
   ]
  },
  {
   "cell_type": "code",
   "execution_count": 64,
   "id": "c74101e7-5442-40a5-95a0-c639858ebce6",
   "metadata": {},
   "outputs": [
    {
     "data": {
      "text/plain": [
       "'Aditya '"
      ]
     },
     "execution_count": 64,
     "metadata": {},
     "output_type": "execute_result"
    }
   ],
   "source": [
    "name.lstrip()"
   ]
  },
  {
   "cell_type": "code",
   "execution_count": 65,
   "id": "d5c299d7-b73b-4b27-87a2-e35bacadfc95",
   "metadata": {},
   "outputs": [
    {
     "data": {
      "text/plain": [
       "' Aditya'"
      ]
     },
     "execution_count": 65,
     "metadata": {},
     "output_type": "execute_result"
    }
   ],
   "source": [
    "name.rstrip()"
   ]
  },
  {
   "cell_type": "code",
   "execution_count": 66,
   "id": "214d7e9b-a4d1-4984-b11f-71dfa55fa87d",
   "metadata": {},
   "outputs": [
    {
     "data": {
      "text/plain": [
       "True"
      ]
     },
     "execution_count": 66,
     "metadata": {},
     "output_type": "execute_result"
    }
   ],
   "source": [
    "name.startswith(' A')"
   ]
  },
  {
   "cell_type": "code",
   "execution_count": 67,
   "id": "291ed7ae-ee4d-490f-ba8c-23e1d9d1060c",
   "metadata": {},
   "outputs": [
    {
     "data": {
      "text/plain": [
       "True"
      ]
     },
     "execution_count": 67,
     "metadata": {},
     "output_type": "execute_result"
    }
   ],
   "source": [
    "name.endswith('a ')"
   ]
  },
  {
   "cell_type": "code",
   "execution_count": 68,
   "id": "b22222c3-cbee-43e7-b073-9853d3e34230",
   "metadata": {},
   "outputs": [
    {
     "data": {
      "text/plain": [
       "'Aditya'"
      ]
     },
     "execution_count": 68,
     "metadata": {},
     "output_type": "execute_result"
    }
   ],
   "source": [
    "name=name.strip()\n",
    "name"
   ]
  },
  {
   "cell_type": "code",
   "execution_count": 69,
   "id": "964108b7-4044-44af-8144-abccdcd4aaa7",
   "metadata": {},
   "outputs": [
    {
     "data": {
      "text/plain": [
       "'Aditya'"
      ]
     },
     "execution_count": 69,
     "metadata": {},
     "output_type": "execute_result"
    }
   ],
   "source": [
    "name"
   ]
  },
  {
   "cell_type": "code",
   "execution_count": 70,
   "id": "6bb21c85-9de9-49a1-9129-1e01644e8193",
   "metadata": {},
   "outputs": [
    {
     "data": {
      "text/plain": [
       "'aaditya'"
      ]
     },
     "execution_count": 70,
     "metadata": {},
     "output_type": "execute_result"
    }
   ],
   "source": [
    "name.replace('A','aa')"
   ]
  },
  {
   "cell_type": "code",
   "execution_count": 71,
   "id": "f121177d-c73a-4eda-b7e4-6543d4825d95",
   "metadata": {},
   "outputs": [
    {
     "data": {
      "text/plain": [
       "2"
      ]
     },
     "execution_count": 71,
     "metadata": {},
     "output_type": "execute_result"
    }
   ],
   "source": [
    "name.find('i')"
   ]
  },
  {
   "cell_type": "code",
   "execution_count": 72,
   "id": "fbf2ab5e-820a-40d5-b31c-80ceb9d87fae",
   "metadata": {},
   "outputs": [
    {
     "data": {
      "text/plain": [
       "74"
      ]
     },
     "execution_count": 72,
     "metadata": {},
     "output_type": "execute_result"
    }
   ],
   "source": [
    "num1=24\n",
    "num2=15\n",
    "num1+=50\n",
    "num1"
   ]
  },
  {
   "cell_type": "code",
   "execution_count": 73,
   "id": "cee9c78b-ae6e-4c8f-8ffb-264763ad1498",
   "metadata": {},
   "outputs": [
    {
     "data": {
      "text/plain": [
       "24"
      ]
     },
     "execution_count": 73,
     "metadata": {},
     "output_type": "execute_result"
    }
   ],
   "source": [
    "num1-=50\n",
    "num1"
   ]
  },
  {
   "cell_type": "code",
   "execution_count": 74,
   "id": "3573a57f-ae25-4e77-a164-bcda0cc0b0e5",
   "metadata": {},
   "outputs": [
    {
     "data": {
      "text/plain": [
       "False"
      ]
     },
     "execution_count": 74,
     "metadata": {},
     "output_type": "execute_result"
    }
   ],
   "source": [
    "num1<num2 and num1>0"
   ]
  },
  {
   "cell_type": "code",
   "execution_count": 75,
   "id": "438f26da-0b8b-4c1d-b506-bde750153876",
   "metadata": {},
   "outputs": [
    {
     "data": {
      "text/plain": [
       "True"
      ]
     },
     "execution_count": 75,
     "metadata": {},
     "output_type": "execute_result"
    }
   ],
   "source": [
    "num1!=num2"
   ]
  },
  {
   "cell_type": "code",
   "execution_count": 76,
   "id": "0fc392f2-72e4-4bcc-bac2-01766bfecd5c",
   "metadata": {},
   "outputs": [
    {
     "name": "stdout",
     "output_type": "stream",
     "text": [
      "tanu\n"
     ]
    }
   ],
   "source": [
    "name='tanu' \n",
    "print(name)"
   ]
  },
  {
   "cell_type": "code",
   "execution_count": 77,
   "id": "51023524-c7f3-4f03-b2fa-75240345c88e",
   "metadata": {},
   "outputs": [
    {
     "data": {
      "text/plain": [
       "'i like python'"
      ]
     },
     "execution_count": 77,
     "metadata": {},
     "output_type": "execute_result"
    }
   ],
   "source": [
    "sent=\"i like python\"\n",
    "sent"
   ]
  },
  {
   "cell_type": "code",
   "execution_count": 78,
   "id": "79f68177-fc1f-4b80-a080-d5f50b80dce6",
   "metadata": {},
   "outputs": [
    {
     "data": {
      "text/plain": [
       "83.6"
      ]
     },
     "execution_count": 78,
     "metadata": {},
     "output_type": "execute_result"
    }
   ],
   "source": [
    "num1=34 # typecasting\n",
    "num2=49.6\n",
    "num1+num2"
   ]
  },
  {
   "cell_type": "code",
   "execution_count": 79,
   "id": "cf42f4e4-adb4-4852-bdf6-13c1ca26c11a",
   "metadata": {},
   "outputs": [
    {
     "data": {
      "text/plain": [
       "83.6"
      ]
     },
     "execution_count": 79,
     "metadata": {},
     "output_type": "execute_result"
    }
   ],
   "source": [
    "num1=34\n",
    "num2=49.6\n",
    "num1+num2"
   ]
  },
  {
   "cell_type": "code",
   "execution_count": 80,
   "id": "4935e7df-3545-43ca-b6e8-6d2b559b8ea9",
   "metadata": {},
   "outputs": [
    {
     "data": {
      "text/plain": [
       "49"
      ]
     },
     "execution_count": 80,
     "metadata": {},
     "output_type": "execute_result"
    }
   ],
   "source": [
    "num2=int(num2)\n",
    "num2"
   ]
  },
  {
   "cell_type": "code",
   "execution_count": 81,
   "id": "d29afcdb-b0b2-42a1-ba92-1da0b9231d61",
   "metadata": {},
   "outputs": [
    {
     "data": {
      "text/plain": [
       "83"
      ]
     },
     "execution_count": 81,
     "metadata": {},
     "output_type": "execute_result"
    }
   ],
   "source": [
    "num1+num2"
   ]
  },
  {
   "cell_type": "code",
   "execution_count": 82,
   "id": "c9a45876-734d-4889-bf59-ccd31a6358fe",
   "metadata": {},
   "outputs": [
    {
     "data": {
      "text/plain": [
       "'123412341234'"
      ]
     },
     "execution_count": 82,
     "metadata": {},
     "output_type": "execute_result"
    }
   ],
   "source": [
    "num3='1234'\n",
    "num3*3"
   ]
  },
  {
   "cell_type": "code",
   "execution_count": 83,
   "id": "ecd9f216-188f-4f09-bfeb-01074d68969d",
   "metadata": {},
   "outputs": [
    {
     "data": {
      "text/plain": [
       "3702"
      ]
     },
     "execution_count": 83,
     "metadata": {},
     "output_type": "execute_result"
    }
   ],
   "source": [
    "int(num3)*3"
   ]
  },
  {
   "cell_type": "code",
   "execution_count": 84,
   "id": "cf99022d-0a3c-4534-baa6-3f5ce516f474",
   "metadata": {},
   "outputs": [],
   "source": [
    "name='tanu'\n",
    "num1=79"
   ]
  },
  {
   "cell_type": "code",
   "execution_count": 23,
   "id": "216a756f-9ccf-4eea-861c-79c5bccd77f0",
   "metadata": {},
   "outputs": [
    {
     "data": {
      "text/plain": [
       "'tanu79'"
      ]
     },
     "execution_count": 23,
     "metadata": {},
     "output_type": "execute_result"
    }
   ],
   "source": [
    "name+str(num1)"
   ]
  },
  {
   "cell_type": "code",
   "execution_count": 85,
   "id": "de511e48-a8ef-4557-b1ef-e909de51c105",
   "metadata": {},
   "outputs": [],
   "source": [
    "num1=24 # assignment operator\n",
    "num1+=50"
   ]
  },
  {
   "cell_type": "code",
   "execution_count": 86,
   "id": "270abff7-d34e-47a9-9225-32b1ca11b850",
   "metadata": {},
   "outputs": [
    {
     "data": {
      "text/plain": [
       "74"
      ]
     },
     "execution_count": 86,
     "metadata": {},
     "output_type": "execute_result"
    }
   ],
   "source": [
    "num1"
   ]
  },
  {
   "cell_type": "code",
   "execution_count": 11,
   "id": "4dc25c8d-75c6-4e06-92a7-59fe5f3110a1",
   "metadata": {},
   "outputs": [
    {
     "data": {
      "text/plain": [
       "24"
      ]
     },
     "execution_count": 11,
     "metadata": {},
     "output_type": "execute_result"
    }
   ],
   "source": [
    "num1-=50\n",
    "num1"
   ]
  },
  {
   "cell_type": "code",
   "execution_count": 87,
   "id": "f8e78cce-0837-4629-815f-e651d0dce73f",
   "metadata": {},
   "outputs": [
    {
     "name": "stdout",
     "output_type": "stream",
     "text": [
      "pallu\n"
     ]
    }
   ],
   "source": [
    "name='pallu'# String operator\n",
    "print(name)"
   ]
  },
  {
   "cell_type": "code",
   "execution_count": 88,
   "id": "c5f7a56c-f1be-40e2-88c7-b9a8d614ccf0",
   "metadata": {},
   "outputs": [
    {
     "name": "stdout",
     "output_type": "stream",
     "text": [
      "pallu\n"
     ]
    }
   ],
   "source": [
    "print(\"pallu\")"
   ]
  },
  {
   "cell_type": "code",
   "execution_count": 89,
   "id": "ae7fecb9-0c70-4994-bb2d-5a312f4d76c5",
   "metadata": {},
   "outputs": [
    {
     "data": {
      "text/plain": [
       "'i like python programming'"
      ]
     },
     "execution_count": 89,
     "metadata": {},
     "output_type": "execute_result"
    }
   ],
   "source": [
    "sent=\"i like python programming\"\n",
    "sent"
   ]
  },
  {
   "cell_type": "code",
   "execution_count": 90,
   "id": "80af277a-13f3-4fda-8cd7-517bc8b56c89",
   "metadata": {},
   "outputs": [
    {
     "name": "stdout",
     "output_type": "stream",
     "text": [
      "i like python programming\n"
     ]
    }
   ],
   "source": [
    "print(sent)"
   ]
  },
  {
   "cell_type": "code",
   "execution_count": 91,
   "id": "0d282953-d268-4a09-a6fd-558657374cd5",
   "metadata": {},
   "outputs": [],
   "source": [
    "num=12.32 # float datatype\n",
    "result=num*10.2"
   ]
  },
  {
   "cell_type": "code",
   "execution_count": 92,
   "id": "2b8dca4b-d3c6-47f5-b3f3-1c1e22a68dfd",
   "metadata": {},
   "outputs": [
    {
     "data": {
      "text/plain": [
       "125.66399999999999"
      ]
     },
     "execution_count": 92,
     "metadata": {},
     "output_type": "execute_result"
    }
   ],
   "source": [
    "result"
   ]
  },
  {
   "cell_type": "code",
   "execution_count": 93,
   "id": "0261d249-8ab9-4d54-aac3-ac632bf35092",
   "metadata": {},
   "outputs": [],
   "source": [
    "num=12e3"
   ]
  },
  {
   "cell_type": "code",
   "execution_count": 94,
   "id": "892aa9b8-2192-4842-ae12-0f1f5be71a63",
   "metadata": {},
   "outputs": [
    {
     "data": {
      "text/plain": [
       "float"
      ]
     },
     "execution_count": 94,
     "metadata": {},
     "output_type": "execute_result"
    }
   ],
   "source": [
    "type(num)"
   ]
  },
  {
   "cell_type": "code",
   "execution_count": 28,
   "id": "fb3b7cf9-810e-4c20-83b0-4cf3f681d155",
   "metadata": {},
   "outputs": [
    {
     "data": {
      "text/plain": [
       "12000.0"
      ]
     },
     "execution_count": 28,
     "metadata": {},
     "output_type": "execute_result"
    }
   ],
   "source": [
    "num"
   ]
  },
  {
   "cell_type": "code",
   "execution_count": 95,
   "id": "aa421c79-5a44-442a-806e-ed1cdbac7056",
   "metadata": {},
   "outputs": [
    {
     "data": {
      "text/plain": [
       "97"
      ]
     },
     "execution_count": 95,
     "metadata": {},
     "output_type": "execute_result"
    }
   ],
   "source": [
    "ord('a')# Ascii"
   ]
  },
  {
   "cell_type": "code",
   "execution_count": 96,
   "id": "9d3919c3-e0b1-409b-93dd-0954b3ba7076",
   "metadata": {},
   "outputs": [
    {
     "data": {
      "text/plain": [
       "65"
      ]
     },
     "execution_count": 96,
     "metadata": {},
     "output_type": "execute_result"
    }
   ],
   "source": [
    "ord('A')"
   ]
  },
  {
   "cell_type": "code",
   "execution_count": 97,
   "id": "7930ea22-644a-4f08-be06-007b814f4427",
   "metadata": {},
   "outputs": [
    {
     "data": {
      "text/plain": [
       "'z'"
      ]
     },
     "execution_count": 97,
     "metadata": {},
     "output_type": "execute_result"
    }
   ],
   "source": [
    "chr(122)"
   ]
  },
  {
   "cell_type": "code",
   "execution_count": 98,
   "id": "69482610-eaab-4f8e-86d7-91e956b4c314",
   "metadata": {},
   "outputs": [
    {
     "data": {
      "text/plain": [
       "'W'"
      ]
     },
     "execution_count": 98,
     "metadata": {},
     "output_type": "execute_result"
    }
   ],
   "source": [
    "chr(87)"
   ]
  },
  {
   "cell_type": "code",
   "execution_count": 99,
   "id": "852cf233-aaf5-41a2-9bb2-0f839a1e6be4",
   "metadata": {},
   "outputs": [
    {
     "data": {
      "text/plain": [
       "True"
      ]
     },
     "execution_count": 99,
     "metadata": {},
     "output_type": "execute_result"
    }
   ],
   "source": [
    "num1>num2 #relational operator"
   ]
  },
  {
   "cell_type": "code",
   "execution_count": 100,
   "id": "80debe33-7e55-4815-9072-91de8ac4bf05",
   "metadata": {},
   "outputs": [
    {
     "data": {
      "text/plain": [
       "False"
      ]
     },
     "execution_count": 100,
     "metadata": {},
     "output_type": "execute_result"
    }
   ],
   "source": [
    "num1<num2"
   ]
  },
  {
   "cell_type": "code",
   "execution_count": 101,
   "id": "6482bc62-dd76-4538-a9b4-96021fadc410",
   "metadata": {},
   "outputs": [
    {
     "data": {
      "text/plain": [
       "True"
      ]
     },
     "execution_count": 101,
     "metadata": {},
     "output_type": "execute_result"
    }
   ],
   "source": [
    "num1>=num2"
   ]
  },
  {
   "cell_type": "code",
   "execution_count": 102,
   "id": "ad44555d-21ed-4e5b-b1bf-c23b025eb368",
   "metadata": {},
   "outputs": [
    {
     "data": {
      "text/plain": [
       "False"
      ]
     },
     "execution_count": 102,
     "metadata": {},
     "output_type": "execute_result"
    }
   ],
   "source": [
    "num1<num2 and num1>0"
   ]
  },
  {
   "cell_type": "code",
   "execution_count": 103,
   "id": "c704df67-95d0-4757-a280-f863aedd4fdf",
   "metadata": {},
   "outputs": [
    {
     "data": {
      "text/plain": [
       "True"
      ]
     },
     "execution_count": 103,
     "metadata": {},
     "output_type": "execute_result"
    }
   ],
   "source": [
    "num1<num2 or num1>0"
   ]
  },
  {
   "cell_type": "code",
   "execution_count": 104,
   "id": "1ab2b250-ad86-44e6-ba58-f54e2cfdacc1",
   "metadata": {},
   "outputs": [
    {
     "data": {
      "text/plain": [
       "True"
      ]
     },
     "execution_count": 104,
     "metadata": {},
     "output_type": "execute_result"
    }
   ],
   "source": [
    "num1>num2 or num1>0"
   ]
  },
  {
   "cell_type": "code",
   "execution_count": 105,
   "id": "d43b0de1-a1aa-411f-9d4b-a096bf238846",
   "metadata": {},
   "outputs": [
    {
     "data": {
      "text/plain": [
       "True"
      ]
     },
     "execution_count": 105,
     "metadata": {},
     "output_type": "execute_result"
    }
   ],
   "source": [
    "name='tanu'\n",
    "'a'in name"
   ]
  },
  {
   "cell_type": "code",
   "execution_count": 106,
   "id": "fdafd919-d38f-45fd-83fa-fa5c2296515d",
   "metadata": {},
   "outputs": [
    {
     "data": {
      "text/plain": [
       "False"
      ]
     },
     "execution_count": 106,
     "metadata": {},
     "output_type": "execute_result"
    }
   ],
   "source": [
    "'a'not in name"
   ]
  },
  {
   "cell_type": "code",
   "execution_count": null,
   "id": "ea4e525d-3ecd-4335-9046-7de9a9f81086",
   "metadata": {},
   "outputs": [],
   "source": []
  }
 ],
 "metadata": {
  "kernelspec": {
   "display_name": "Python 3 (ipykernel)",
   "language": "python",
   "name": "python3"
  },
  "language_info": {
   "codemirror_mode": {
    "name": "ipython",
    "version": 3
   },
   "file_extension": ".py",
   "mimetype": "text/x-python",
   "name": "python",
   "nbconvert_exporter": "python",
   "pygments_lexer": "ipython3",
   "version": "3.11.7"
  }
 },
 "nbformat": 4,
 "nbformat_minor": 5
}
