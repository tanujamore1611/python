{
 "cells": [
  {
   "cell_type": "code",
   "execution_count": 4,
   "id": "0e7a0646-778e-4805-8d59-d005962dc956",
   "metadata": {},
   "outputs": [
    {
     "name": "stdin",
     "output_type": "stream",
     "text": [
      "enter the no. 60\n"
     ]
    },
    {
     "name": "stdout",
     "output_type": "stream",
     "text": [
      "ok\n"
     ]
    }
   ],
   "source": [
    "num=int(input('enter the no.'))\n",
    "if num>50:\n",
    "    print('ok')"
   ]
  },
  {
   "cell_type": "code",
   "execution_count": 6,
   "id": "66335d9d-c030-41ae-a9f1-68083ec1aa04",
   "metadata": {},
   "outputs": [
    {
     "name": "stdin",
     "output_type": "stream",
     "text": [
      "enter no. -2\n"
     ]
    },
    {
     "name": "stdout",
     "output_type": "stream",
     "text": [
      "negative\n",
      "goodbye!!\n"
     ]
    }
   ],
   "source": [
    "num=int(input('enter no.'))\n",
    "if num>0:\n",
    "    print('positive')\n",
    "    print('ok')\n",
    "else:\n",
    "    print('negative')\n",
    "    print('goodbye!!')"
   ]
  },
  {
   "cell_type": "code",
   "execution_count": 8,
   "id": "34e1bc57-ddd8-4447-856a-ba617b3a301e",
   "metadata": {},
   "outputs": [
    {
     "name": "stdin",
     "output_type": "stream",
     "text": [
      "enter no. 6\n"
     ]
    },
    {
     "name": "stdout",
     "output_type": "stream",
     "text": [
      "positive\n"
     ]
    }
   ],
   "source": [
    "num=int(input('enter no.'))\n",
    "if num>0:\n",
    "    print('positive')\n",
    "elif num==0:\n",
    "    print('zero')\n",
    "else:\n",
    "    print('negative')"
   ]
  },
  {
   "cell_type": "code",
   "execution_count": 9,
   "id": "4b5ff443-4257-4b4f-a068-dd3ee786925d",
   "metadata": {},
   "outputs": [
    {
     "name": "stdin",
     "output_type": "stream",
     "text": [
      "enter no. 5\n"
     ]
    },
    {
     "name": "stdout",
     "output_type": "stream",
     "text": [
      "odd\n"
     ]
    }
   ],
   "source": [
    "num=int(input('enter no.'))\n",
    "if num%2==0:\n",
    "    print('even')\n",
    "else:\n",
    "    print('odd')"
   ]
  },
  {
   "cell_type": "code",
   "execution_count": 13,
   "id": "0eaab787-b82c-4592-9abf-fd97241cd7d1",
   "metadata": {},
   "outputs": [
    {
     "name": "stdout",
     "output_type": "stream",
     "text": [
      "ok\n"
     ]
    }
   ],
   "source": [
    "b=56\n",
    "if a:\n",
    "    print('ok')"
   ]
  },
  {
   "cell_type": "code",
   "execution_count": 17,
   "id": "b04b8bdd-dc75-435c-9028-8d9cace65fca",
   "metadata": {},
   "outputs": [
    {
     "name": "stdin",
     "output_type": "stream",
     "text": [
      "enter no. 10\n"
     ]
    },
    {
     "name": "stdout",
     "output_type": "stream",
     "text": [
      "not correct\n"
     ]
    }
   ],
   "source": [
    "num=int(input('enter no.'))\n",
    "if num>50:\n",
    "    if num<150:\n",
    "        print('correct')\n",
    "    else:\n",
    "        print('greater than 150')\n",
    "else:print('not correct')"
   ]
  },
  {
   "cell_type": "code",
   "execution_count": 18,
   "id": "f5d7ce47-e2df-4d6c-8aa3-bf0f15270157",
   "metadata": {},
   "outputs": [
    {
     "name": "stdin",
     "output_type": "stream",
     "text": [
      "enter no. 6\n"
     ]
    },
    {
     "name": "stdout",
     "output_type": "stream",
     "text": [
      "incorrect\n"
     ]
    }
   ],
   "source": [
    "num=int(input('enter no.'))\n",
    "if num>50 and num<150:\n",
    "    print('correct')\n",
    "else:\n",
    "    print('incorrect')"
   ]
  },
  {
   "cell_type": "code",
   "execution_count": 1,
   "id": "80ee5179-8f58-4ffc-9187-a358f012cf37",
   "metadata": {},
   "outputs": [
    {
     "name": "stdin",
     "output_type": "stream",
     "text": [
      "enter the selling cost 1000\n",
      "enter the purchase cost 2000\n"
     ]
    },
    {
     "name": "stdout",
     "output_type": "stream",
     "text": [
      "loss 1000\n"
     ]
    }
   ],
   "source": [
    "selling_cost=int(input('enter the selling cost'))\n",
    "purchase_cost=int(input('enter the purchase cost'))\n",
    "if selling_cost>purchase_cost:\n",
    "    print('profit:',selling_cost>purchase_cost)\n",
    "else:\n",
    "    print('loss',purchase_cost-selling_cost)"
   ]
  },
  {
   "cell_type": "code",
   "execution_count": 9,
   "id": "c117f7d6-dbc6-44b6-a0dc-f94b8ffc068b",
   "metadata": {},
   "outputs": [
    {
     "name": "stdin",
     "output_type": "stream",
     "text": [
      "enter num1 3\n",
      "enter num2 4\n",
      "enter num3 5\n"
     ]
    },
    {
     "name": "stdout",
     "output_type": "stream",
     "text": [
      "num3 is greater\n"
     ]
    }
   ],
   "source": [
    "num1=int(input('enter num1'))\n",
    "num2=int(input('enter num2'))\n",
    "num3=int(input('enter num3'))\n",
    "if num1>num2:\n",
    "    if num1>num3:\n",
    "         print('num1 is greater')\n",
    "    else:\n",
    "         print('num3 is greater')\n",
    "else:\n",
    "     if num2>num1:\n",
    "         if num2>num3:\n",
    "             print('num2 is greater')\n",
    "         else:\n",
    "             print('num3 is greater')\n",
    "    "
   ]
  },
  {
   "cell_type": "code",
   "execution_count": 20,
   "id": "7bb9e8d2-d7d9-4bf0-88da-c528c059d4ca",
   "metadata": {},
   "outputs": [
    {
     "name": "stdin",
     "output_type": "stream",
     "text": [
      "enter year 1700\n"
     ]
    },
    {
     "name": "stdout",
     "output_type": "stream",
     "text": [
      "century  year but not leap year\n"
     ]
    }
   ],
   "source": [
    "year=int(input('enter year'))\n",
    "if year%4==0:\n",
    "    if year%100==0:\n",
    "        if year%400==0:\n",
    "           print('leap centuary year')\n",
    "        else:\n",
    "           print('century  year but not leap year')\n",
    "    else:\n",
    "          print('leap year')\n",
    "else:\n",
    "      print('not leap year')"
   ]
  },
  {
   "cell_type": "code",
   "execution_count": 21,
   "id": "d799de9a-d431-4a17-a2b1-38782c1d3545",
   "metadata": {},
   "outputs": [
    {
     "name": "stdin",
     "output_type": "stream",
     "text": [
      "enter marks 75\n"
     ]
    },
    {
     "name": "stdout",
     "output_type": "stream",
     "text": [
      "fs\n"
     ]
    }
   ],
   "source": [
    "marks=int(input('enter marks'))\n",
    "if marks>=60:\n",
    "    print('fs')\n",
    "elif marks>=50:\n",
    "    prrint('sf')\n",
    "elif marks>=40:\n",
    "    print('tf')\n",
    "elif marks>=35:\n",
    "    print('pass')\n",
    "elif marks<=35:\n",
    "    print('fail')"
   ]
  },
  {
   "cell_type": "code",
   "execution_count": 27,
   "id": "27f8fe45-d91c-45da-b484-00502f44652c",
   "metadata": {},
   "outputs": [
    {
     "name": "stdin",
     "output_type": "stream",
     "text": [
      "enter the number 3\n"
     ]
    },
    {
     "name": "stdout",
     "output_type": "stream",
     "text": [
      "MENU:\n",
      "1.Square\n",
      "2:cube\n",
      "3:check Positive or Negative\n"
     ]
    },
    {
     "name": "stdin",
     "output_type": "stream",
     "text": [
      "enter your choice 2\n"
     ]
    },
    {
     "name": "stdout",
     "output_type": "stream",
     "text": [
      "cube is: 27\n"
     ]
    }
   ],
   "source": [
    "num=int(input('enter the number'))\n",
    "print('MENU:\\n1.Square\\n2:cube\\n3:check Positive or Negative')\n",
    "choice=int(input('enter your choice'))\n",
    "if choice==1:\n",
    "     print('square is:',num*num)\n",
    "elif choice==2:\n",
    "     print('cube is:',num**3)\n",
    "elif choice==3:\n",
    "           if num>0:\n",
    "               print('positive')\n",
    "           else:\n",
    "                print('negative')\n",
    "else:\n",
    "    print(\"you must've forgotten your brain\")\n"
   ]
  },
  {
   "cell_type": "code",
   "execution_count": 32,
   "id": "df78e9be-aa3e-45ff-89e1-664769631275",
   "metadata": {},
   "outputs": [
    {
     "name": "stdin",
     "output_type": "stream",
     "text": [
      "enter number1 2\n",
      "enter number2 2\n"
     ]
    },
    {
     "name": "stdout",
     "output_type": "stream",
     "text": [
      "enter choice\n"
     ]
    },
    {
     "name": "stdin",
     "output_type": "stream",
     "text": [
      "enter any choice 1\n"
     ]
    },
    {
     "name": "stdout",
     "output_type": "stream",
     "text": [
      "input char is meaningless\n",
      "2 1 2 : 0\n"
     ]
    }
   ],
   "source": [
    "num1=int(input('enter number1'))\n",
    "num2=int(input('enter number2'))\n",
    "print(\"enter choice\")\n",
    "ch=input(\"enter any choice\")\n",
    "result=0\n",
    "if ch=='add':\n",
    "    result=num1+num2\n",
    "elif ch=='sub':\n",
    "        result=num1-num2\n",
    "elif ch=='mul':\n",
    "        result=num1*num2\n",
    "else:\n",
    "    print(\"input char is meaningless\")\n",
    "    \n",
    "print(num1,ch,num2,\":\",result)"
   ]
  },
  {
   "cell_type": "code",
   "execution_count": null,
   "id": "1b555200-2a67-4a84-bcd2-1586befafb34",
   "metadata": {},
   "outputs": [],
   "source": []
  }
 ],
 "metadata": {
  "kernelspec": {
   "display_name": "Python 3 (ipykernel)",
   "language": "python",
   "name": "python3"
  },
  "language_info": {
   "codemirror_mode": {
    "name": "ipython",
    "version": 3
   },
   "file_extension": ".py",
   "mimetype": "text/x-python",
   "name": "python",
   "nbconvert_exporter": "python",
   "pygments_lexer": "ipython3",
   "version": "3.11.7"
  }
 },
 "nbformat": 4,
 "nbformat_minor": 5
}
