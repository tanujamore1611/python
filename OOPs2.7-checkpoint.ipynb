{
 "cells": [
  {
   "cell_type": "code",
   "execution_count": 1,
   "id": "83970e99-2c6e-4356-aa65-5773ee2ddf4a",
   "metadata": {},
   "outputs": [],
   "source": [
    "class Employee():#creating the class\n",
    "    pass"
   ]
  },
  {
   "cell_type": "code",
   "execution_count": 3,
   "id": "800b023d-dc42-435d-b297-ea9dcf753801",
   "metadata": {},
   "outputs": [],
   "source": [
    "emp1=Employee() # creating an instance of class\n",
    "emp2=Employee()"
   ]
  },
  {
   "cell_type": "code",
   "execution_count": 4,
   "id": "4f9faac6-c795-43b7-bcc0-f582e76d5597",
   "metadata": {},
   "outputs": [
    {
     "name": "stdout",
     "output_type": "stream",
     "text": [
      "<__main__.Employee object at 0x000001F55636D150>\n",
      "<__main__.Employee object at 0x000001F5557940D0>\n"
     ]
    }
   ],
   "source": [
    "print(emp1)\n",
    "print(emp2)"
   ]
  },
  {
   "cell_type": "code",
   "execution_count": 5,
   "id": "23acb4d5-cf23-4d9d-8589-4e3f162073fc",
   "metadata": {},
   "outputs": [],
   "source": [
    "# instance variables\n",
    "\n",
    "emp1.first='Neeraj'\n",
    "emp2.last='Deshmukh'\n",
    "emp2.salary=51000\n",
    "\n",
    "emp2.first='Natasha'\n",
    "emp2.last='Negi'\n",
    "emp2.salary=52000\n"
   ]
  },
  {
   "cell_type": "code",
   "execution_count": 6,
   "id": "c1121bbf-e344-4ad5-b54b-944362c33749",
   "metadata": {},
   "outputs": [
    {
     "name": "stdout",
     "output_type": "stream",
     "text": [
      "Neeraj\n"
     ]
    }
   ],
   "source": [
    "print(emp1.first)"
   ]
  },
  {
   "cell_type": "code",
   "execution_count": 7,
   "id": "90eb38fb-4815-4c75-a69b-8d3341519b76",
   "metadata": {},
   "outputs": [
    {
     "name": "stdout",
     "output_type": "stream",
     "text": [
      "52000\n"
     ]
    }
   ],
   "source": [
    "print(emp2.salary)"
   ]
  },
  {
   "cell_type": "code",
   "execution_count": 19,
   "id": "a9eed38f-c582-4954-a5a2-1ac21d78110a",
   "metadata": {},
   "outputs": [],
   "source": [
    "class Employee():\n",
    "    \n",
    " def __init__ (self,first,last,salary):\n",
    "    self.first=first\n",
    "    self.last=last\n",
    "    self.salary=salary\n",
    "\n",
    " def show(self):\n",
    "         print(emp1.first+' '+'ok')"
   ]
  },
  {
   "cell_type": "code",
   "execution_count": 14,
   "id": "91090e6b-3d82-42a0-b3f7-ab1939fd97b2",
   "metadata": {},
   "outputs": [],
   "source": [
    "emp1=Employee('raj','sharma',48000)"
   ]
  },
  {
   "cell_type": "code",
   "execution_count": 17,
   "id": "4bc03c38-049a-441d-aabb-c1aff9643f1f",
   "metadata": {},
   "outputs": [
    {
     "name": "stdout",
     "output_type": "stream",
     "text": [
      "raj\n"
     ]
    }
   ],
   "source": [
    "print(emp1.first)"
   ]
  },
  {
   "cell_type": "code",
   "execution_count": 18,
   "id": "cdef0ad5-c5a8-4e99-8363-3a1f28cd951c",
   "metadata": {},
   "outputs": [],
   "source": [
    "emp2=Employee('ajay','patil',49000)"
   ]
  },
  {
   "cell_type": "code",
   "execution_count": 20,
   "id": "b7c00e3c-cd37-41f3-a870-e83bbd5a28a5",
   "metadata": {},
   "outputs": [
    {
     "ename": "TypeError",
     "evalue": "Employee.show() takes 0 positional arguments but 1 was given",
     "output_type": "error",
     "traceback": [
      "\u001b[1;31m---------------------------------------------------------------------------\u001b[0m",
      "\u001b[1;31mTypeError\u001b[0m                                 Traceback (most recent call last)",
      "Cell \u001b[1;32mIn[20], line 1\u001b[0m\n\u001b[1;32m----> 1\u001b[0m emp2\u001b[38;5;241m.\u001b[39mshow()\n",
      "\u001b[1;31mTypeError\u001b[0m: Employee.show() takes 0 positional arguments but 1 was given"
     ]
    }
   ],
   "source": [
    "emp2.show()"
   ]
  },
  {
   "cell_type": "code",
   "execution_count": 21,
   "id": "e1968eb6-4489-4003-bdb5-f4d10c06d2e8",
   "metadata": {},
   "outputs": [],
   "source": [
    "# Encapsulation"
   ]
  },
  {
   "cell_type": "code",
   "execution_count": 32,
   "id": "8c8afeb5-f467-4b7e-8049-95c906b1b586",
   "metadata": {},
   "outputs": [],
   "source": [
    "class Employee():\n",
    "    def __init__ (self,first,last,salary): # init method\n",
    "        self.first=first\n",
    "        self.last=last\n",
    "        self.salary=salary # private library\n",
    "\n",
    "    def show(self):\n",
    "       print (self.salary+' '+'ok')"
   ]
  },
  {
   "cell_type": "code",
   "execution_count": 29,
   "id": "6efd3927-023e-411b-bf12-d2abf757e6e1",
   "metadata": {},
   "outputs": [
    {
     "name": "stdout",
     "output_type": "stream",
     "text": [
      "raj\n"
     ]
    }
   ],
   "source": [
    "print(emp1.first)"
   ]
  },
  {
   "cell_type": "code",
   "execution_count": 30,
   "id": "2d082d1b-46da-463a-8faf-2cd76f1f9a46",
   "metadata": {},
   "outputs": [
    {
     "name": "stdout",
     "output_type": "stream",
     "text": [
      "sharma\n"
     ]
    }
   ],
   "source": [
    "print(emp1.last)"
   ]
  },
  {
   "cell_type": "code",
   "execution_count": 31,
   "id": "d0069613-a8a9-4f12-9dc4-c9abc57b60c5",
   "metadata": {},
   "outputs": [
    {
     "name": "stdout",
     "output_type": "stream",
     "text": [
      "48000\n"
     ]
    }
   ],
   "source": [
    "print(emp1.salary)"
   ]
  },
  {
   "cell_type": "code",
   "execution_count": 33,
   "id": "3e0731d3-557f-44ea-aa86-61498ae33366",
   "metadata": {},
   "outputs": [],
   "source": [
    "# inheritance"
   ]
  },
  {
   "cell_type": "code",
   "execution_count": 39,
   "id": "339b8f72-a06b-4ac7-9431-284803ef1fc0",
   "metadata": {},
   "outputs": [
    {
     "ename": "NameError",
     "evalue": "name 'employee1' is not defined",
     "output_type": "error",
     "traceback": [
      "\u001b[1;31m---------------------------------------------------------------------------\u001b[0m",
      "\u001b[1;31mNameError\u001b[0m                                 Traceback (most recent call last)",
      "Cell \u001b[1;32mIn[39], line 1\u001b[0m\n\u001b[1;32m----> 1\u001b[0m \u001b[38;5;28;01mclass\u001b[39;00m \u001b[38;5;21;01memp2\u001b[39;00m(employee1):\n\u001b[0;32m      2\u001b[0m     \u001b[38;5;28;01mpass\u001b[39;00m\n",
      "\u001b[1;31mNameError\u001b[0m: name 'employee1' is not defined"
     ]
    }
   ],
   "source": [
    "class emp2(employee1):\n",
    "    pass #remaining"
   ]
  },
  {
   "cell_type": "code",
   "execution_count": 41,
   "id": "ffe425b4-a035-4324-99e1-cdd98d03da8f",
   "metadata": {},
   "outputs": [
    {
     "data": {
      "text/plain": [
       "'\\ncreate a class called person\\nattributes=>name,age,city,..(make use of defult parameters also)\\ncreate a method which will show all the info of a person\\n'"
      ]
     },
     "execution_count": 41,
     "metadata": {},
     "output_type": "execute_result"
    }
   ],
   "source": [
    "'''\n",
    "create a class called person\n",
    "attributes=>name,age,city,..(make use of defult parameters also)\n",
    "create a method which will show all the info of a person\n",
    "'''"
   ]
  },
  {
   "cell_type": "code",
   "execution_count": null,
   "id": "a1fd18ad-7aef-4292-800d-2b49b28546e3",
   "metadata": {},
   "outputs": [],
   "source": [
    "class "
   ]
  },
  {
   "cell_type": "code",
   "execution_count": 43,
   "id": "3fd55a12-52cc-4a12-8002-318e7bfdff07",
   "metadata": {},
   "outputs": [],
   "source": [
    "class person():\n",
    "    def __init__ (self,n,a=25): # init method\n",
    "        self.name=n\n",
    "        self.age=a\n",
    "\n",
    "    def info(self):\n",
    "       print ('name',self.name)\n",
    "       print('age',self.age)"
   ]
  },
  {
   "cell_type": "code",
   "execution_count": 44,
   "id": "89185d6f-efc0-4906-bde0-b03ae9184035",
   "metadata": {},
   "outputs": [],
   "source": [
    "import tkinter as tk"
   ]
  },
  {
   "cell_type": "code",
   "execution_count": 1,
   "id": "0fd82e2d-d255-4f57-9978-3f14b1aa15ff",
   "metadata": {},
   "outputs": [
    {
     "ename": "NameError",
     "evalue": "name 'tk' is not defined",
     "output_type": "error",
     "traceback": [
      "\u001b[1;31m---------------------------------------------------------------------------\u001b[0m",
      "\u001b[1;31mNameError\u001b[0m                                 Traceback (most recent call last)",
      "Cell \u001b[1;32mIn[1], line 1\u001b[0m\n\u001b[1;32m----> 1\u001b[0m top\u001b[38;5;241m=\u001b[39mtk\u001b[38;5;241m.\u001b[39mTk()\n\u001b[0;32m      3\u001b[0m top\u001b[38;5;241m.\u001b[39mtitle(\u001b[38;5;124m'\u001b[39m\u001b[38;5;124mmy application\u001b[39m\u001b[38;5;124m'\u001b[39m)\n\u001b[0;32m      4\u001b[0m top\u001b[38;5;241m.\u001b[39mgeometry(\u001b[38;5;124m'\u001b[39m\u001b[38;5;124m500*400\u001b[39m\u001b[38;5;124m'\u001b[39m)\n",
      "\u001b[1;31mNameError\u001b[0m: name 'tk' is not defined"
     ]
    }
   ],
   "source": [
    "top=tk.Tk()\n",
    "\n",
    "top.title('my application')\n",
    "top.geometry('500*400')\n",
    "\n",
    "top.mainloop()"
   ]
  },
  {
   "cell_type": "code",
   "execution_count": null,
   "id": "b9c66c5e-696b-4a7c-bb29-a7e5b395f90a",
   "metadata": {},
   "outputs": [],
   "source": []
  }
 ],
 "metadata": {
  "kernelspec": {
   "display_name": "Python 3 (ipykernel)",
   "language": "python",
   "name": "python3"
  },
  "language_info": {
   "codemirror_mode": {
    "name": "ipython",
    "version": 3
   },
   "file_extension": ".py",
   "mimetype": "text/x-python",
   "name": "python",
   "nbconvert_exporter": "python",
   "pygments_lexer": "ipython3",
   "version": "3.11.7"
  }
 },
 "nbformat": 4,
 "nbformat_minor": 5
}
