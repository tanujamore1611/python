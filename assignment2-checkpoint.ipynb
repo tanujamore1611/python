{
 "cells": [
  {
   "cell_type": "code",
   "execution_count": 21,
   "id": "dafaa653-5c91-4697-80c8-cddea1169b04",
   "metadata": {},
   "outputs": [
    {
     "name": "stdout",
     "output_type": "stream",
     "text": [
      "BATSMAN\n",
      "If Runs = 5000 , Outs = 40 Then Batsman Average =  125.0\n",
      "If Runs = 300 , Balls = 175 Then Batsman Strikerate =  171.42857142857142\n",
      "BOWLER\n",
      "If Runs = 4000 , Wickets = 100 Then Bowler Average =  40.0\n",
      "If Overs = 6 , Runs = 66 Then Bowler Economy Rate =  11.0\n"
     ]
    }
   ],
   "source": [
    "'''Create a package named ‘cricket’ which will contain modules named\n",
    "batsman and bowler. Create following functions in respective modules.\n",
    "Import the package and call all these functions in your program\n",
    "batsman: findaverage(runs,matches), strikerate(runs,balls)\n",
    "bowler: findavg(runs,wickets), economyrate(overs, runs)'''\n",
    "\n",
    "from cricket import batsman as bt\n",
    "from cricket import bowler as bw\n",
    "print(\"BATSMAN\")\n",
    "print(\"If Runs = 5000 , Outs = 40 Then Batsman Average = \",bt.findaverage(5000,40))\n",
    "print(\"If Runs = 300 , Balls = 175 Then Batsman Strikerate = \",bt.strikerate(300,175))\n",
    "print(\"BOWLER\")\n",
    "print(\"If Runs = 4000 , Wickets = 100 Then Bowler Average = \",bw.findavg(4000,100))\n",
    "print(\"If Overs = 6 , Runs = 66 Then Bowler Economy Rate = \",bw.economyrate(6,66))"
   ]
  },
  {
   "cell_type": "code",
   "execution_count": 22,
   "id": "ba73ab6d-7bab-4bf5-985e-6448985f436f",
   "metadata": {},
   "outputs": [
    {
     "ename": "NameError",
     "evalue": "name 'num' is not defined",
     "output_type": "error",
     "traceback": [
      "\u001b[1;31m---------------------------------------------------------------------------\u001b[0m",
      "\u001b[1;31mNameError\u001b[0m                                 Traceback (most recent call last)",
      "Cell \u001b[1;32mIn[22], line 16\u001b[0m\n\u001b[0;32m     13\u001b[0m     \u001b[38;5;28;01melse\u001b[39;00m:\n\u001b[0;32m     14\u001b[0m         \u001b[38;5;28mprint\u001b[39m(num,\u001b[38;5;124m\"\u001b[39m\u001b[38;5;124mis prime\u001b[39m\u001b[38;5;124m\"\u001b[39m)\n\u001b[1;32m---> 16\u001b[0m is_Prime(num)\n",
      "\u001b[1;31mNameError\u001b[0m: name 'num' is not defined"
     ]
    }
   ],
   "source": [
    "'''Write a Python function to find whether the number if prime or not.'''\n",
    "def is_Prime(num):\n",
    "    num = int(input(\"Enter number = \"))\n",
    "def is_Prime(num):\n",
    "    flag = False\n",
    "    if num > 1:\n",
    "        for i in range(2,num):\n",
    "          if num % i == 0:\n",
    "            flag = True\n",
    "    \n",
    "    if flag == True:\n",
    "        print(num,\"is not a prime\")\n",
    "    else:\n",
    "        print(num,\"is prime\")\n",
    "    \n",
    "is_Prime(num)                "
   ]
  },
  {
   "cell_type": "code",
   "execution_count": 12,
   "id": "09bdd02f-2921-44de-8a96-02c7f2a365b1",
   "metadata": {},
   "outputs": [
    {
     "name": "stdin",
     "output_type": "stream",
     "text": [
      "enter string deed\n"
     ]
    },
    {
     "name": "stdout",
     "output_type": "stream",
     "text": [
      "is palindrome\n"
     ]
    }
   ],
   "source": [
    "'''Write a function is_palindrome(string) that takes a string as input and returns\n",
    "True if the string reads the same backward as forward (e.g., \"racecar\" is a palindrome'''\n",
    "\n",
    "string=input(\"enter string\")\n",
    "if(string==string[::-1]):\n",
    "    print(\"is palindrome\")\n",
    "else:\n",
    "    print(\"not palindrome\")"
   ]
  },
  {
   "cell_type": "code",
   "execution_count": 23,
   "id": "ac4cefe2-95bd-4e6d-ac9a-02d1b28f3591",
   "metadata": {},
   "outputs": [
    {
     "name": "stdin",
     "output_type": "stream",
     "text": [
      "enter an Element : [1,2,3,4,5]\n"
     ]
    },
    {
     "ename": "ValueError",
     "evalue": "invalid literal for int() with base 10: '[1,2,3,4,5]'",
     "output_type": "error",
     "traceback": [
      "\u001b[1;31m---------------------------------------------------------------------------\u001b[0m",
      "\u001b[1;31mValueError\u001b[0m                                Traceback (most recent call last)",
      "Cell \u001b[1;32mIn[23], line 6\u001b[0m\n\u001b[0;32m      4\u001b[0m list1 \u001b[38;5;241m=\u001b[39m [] \n\u001b[0;32m      5\u001b[0m \u001b[38;5;28;01mfor\u001b[39;00m i \u001b[38;5;129;01min\u001b[39;00m \u001b[38;5;28mrange\u001b[39m(\u001b[38;5;241m10\u001b[39m):\n\u001b[1;32m----> 6\u001b[0m     n \u001b[38;5;241m=\u001b[39m \u001b[38;5;28mint\u001b[39m(\u001b[38;5;28minput\u001b[39m(\u001b[38;5;124m\"\u001b[39m\u001b[38;5;124menter an Element :\u001b[39m\u001b[38;5;124m\"\u001b[39m))\n\u001b[0;32m      7\u001b[0m     list1\u001b[38;5;241m.\u001b[39mappend(n)\n\u001b[0;32m      8\u001b[0m \u001b[38;5;28;01mdef\u001b[39;00m \u001b[38;5;21mreverse_list\u001b[39m(data):\n",
      "\u001b[1;31mValueError\u001b[0m: invalid literal for int() with base 10: '[1,2,3,4,5]'"
     ]
    }
   ],
   "source": [
    "'''Write a function reverse_list(data) that takes a list as input and returns a new list\n",
    "with the elements in reverse order (e.g., reverse_list([1, 2, 3]) returns [3, 2, 1]).'''\n",
    "\n",
    "list1 = [] \n",
    "for i in range(10):\n",
    "    n = int(input(\"enter an Element :\"))\n",
    "    list1.append(n)\n",
    "def reverse_list(data):\n",
    "    res = data[::-1]\n",
    "    return res\n",
    "print(reverse_list(list1))"
   ]
  },
  {
   "cell_type": "code",
   "execution_count": 24,
   "id": "9bc9dbcb-a6fe-40ab-850d-300aa5ab9677",
   "metadata": {},
   "outputs": [
    {
     "name": "stdin",
     "output_type": "stream",
     "text": [
      "Enter data :-  more\n"
     ]
    },
    {
     "name": "stdout",
     "output_type": "stream",
     "text": [
      "your data is aaded in your file\n"
     ]
    }
   ],
   "source": [
    "'''Write a function write_file(filename, content) that takes a filename and\n",
    "content as input and writes the content to the specified file.'''\n",
    "\n",
    "\n",
    "content = input(\"Enter data :- \")\n",
    "def write_file(filename, data):\n",
    "    with open(filename,\"w\") as f:\n",
    "        f.write(data)\n",
    "        print(\"your data is aaded in your file\")\n",
    "    \n",
    "write_file(\"text1.txt\",content)"
   ]
  },
  {
   "cell_type": "code",
   "execution_count": 26,
   "id": "5a5ee16d-8bd7-4d10-89aa-ddbc1ce2e073",
   "metadata": {},
   "outputs": [
    {
     "name": "stdin",
     "output_type": "stream",
     "text": [
      "enter source file  write.txt\n",
      "enter destn file text1.txt\n"
     ]
    },
    {
     "name": "stdout",
     "output_type": "stream",
     "text": [
      "file is copied\n"
     ]
    }
   ],
   "source": [
    "'''Write a function copy_file(source_filename, destination_filename) that\n",
    "takes the source and destination filenames as input and copies the content of the source\n",
    "file to the destination file. Handle cases where the source file doesn't exist.'''\n",
    "\n",
    "\n",
    "\n",
    "def copy_file(source_filename, destn_filename):\n",
    "    try:\n",
    "        with open(source_filename,\"r\") as d1:\n",
    "            with open(destn_filename,\"w\") as d2:\n",
    "                for n in d1:\n",
    "                    d2.write(n)\n",
    "    except FileNotFoundError:\n",
    "        print(\"invalid source file.\")\n",
    "    except Exception as e:\n",
    "        print(\"error\",e)\n",
    "    else:\n",
    "        print(\"file is copied\")\n",
    "source_filename = input(\"enter source file \")\n",
    "destn_filename = input(\"enter destn file\")\n",
    "copy_file(source_filename,destn_filename)"
   ]
  },
  {
   "cell_type": "code",
   "execution_count": 27,
   "id": "87a838a8-998a-4bf3-8587-ba13fdbb25d6",
   "metadata": {},
   "outputs": [
    {
     "name": "stdout",
     "output_type": "stream",
     "text": [
      "[[67 93]\n",
      " [29 43]]\n"
     ]
    }
   ],
   "source": [
    "'''Implement a function to calculate the dot product of two NumPy arrays.'''\n",
    "\n",
    "import numpy as np\n",
    "def dot_product(arr1,arr2):\n",
    "    try:\n",
    "        res = arr1 @ arr2\n",
    "        return res\n",
    "    except Exception as e:\n",
    "        print(\"error is : \",e)\n",
    "\n",
    "arr1 = np.array([[5,6],[3,2]])\n",
    "arr2 = np.array([[5,9],[7,8]])\n",
    "print(dot_product(arr1,arr2))"
   ]
  },
  {
   "cell_type": "code",
   "execution_count": 29,
   "id": "7a6d749d-71c2-46a4-bcfb-584d4eb98899",
   "metadata": {},
   "outputs": [],
   "source": [
    "'''Implement a GUI with a radio button selection for choosing a favorite color (e.g., red,\n",
    "green, blue). Change the background color of the window based on the selected radio\n",
    "button.'''\n",
    "\n",
    "import tkinter as tk\n",
    "from tkinter import messagebox\n",
    "\n",
    "app = tk.Tk()\n",
    "app.title(\"RADIO BUTTON\")\n",
    "app.geometry(\"500x500\")\n",
    "\n",
    "def change():\n",
    "    selected_color = color_var.get()\n",
    "    if selected_color == \"purple\":\n",
    "        app.configure(bg = \"purple\")\n",
    "    elif selected_color == \"brown\":\n",
    "        app.configure(bg =\"brown\")\n",
    "    elif selected_color == \"green\":\n",
    "        app.configure(bg = \"green\")\n",
    "    elif selected_color == \"Yellow\":\n",
    "        app.configure(bg = \"yellow\")\n",
    "    elif selected_color == \"gray\":\n",
    "        app.configure(bg = \"gray\")\n",
    "    elif selected_color == \"skyblue\":\n",
    "        app.configure(bg = \"skyblue\")\n",
    "    elif selected_color == \"red\":\n",
    "        app.configure(bg = \"red\")\n",
    "    elif selected_color == \"pink\":\n",
    "        app.configure(bg = \"pink\")\n",
    "        \n",
    "color_var = tk.StringVar(value=\"white\")\n",
    "\n",
    "r1 = tk.Radiobutton(app,text = \"purple\",command = change,value = \"purple\",variable = color_var,bg = \"purple\",width = 10).pack(anchor = tk.CENTER,pady = 2)\n",
    "r2 = tk.Radiobutton(app,text = \"brown\",command = change,value = \"brown\",variable = color_var,bg = \"brown\",width = 10).pack(anchor = tk.CENTER,pady = 2)\n",
    "r3 = tk.Radiobutton(app,text = \"green\",command = change,value = \"green\",variable = color_var,bg = \"green\",width = 10).pack(anchor = tk.CENTER,pady = 2)\n",
    "r4 = tk.Radiobutton(app,text = \"Yellow\",command = change,value = \"Yellow\",variable = color_var,bg = \"yellow\",width = 10).pack(anchor = tk.CENTER,pady = 2)\n",
    "r5 = tk.Radiobutton(app,text = \"gray\",command = change,value = \"gray\",variable = color_var,bg = \"gray\",width = 10).pack(anchor = tk.CENTER,pady = 2)\n",
    "r6 = tk.Radiobutton(app,text = \"skyblue\",command = change,value = \"skyblue\",variable = color_var,bg = \"skyblue\",width = 10).pack(anchor = tk.CENTER,pady = 2)\n",
    "r7 = tk.Radiobutton(app,text = \"red\",command = change,value = \"red\",variable = color_var,bg = \"red\",width = 10).pack(anchor = tk.CENTER,pady = 2)\n",
    "r8 = tk.Radiobutton(app,text = \"pink\",command = change,value = \"pink\",variable = color_var,bg = \"pink\",width = 10).pack(anchor = tk.CENTER,pady = 2)\n",
    "tk.mainloop()"
   ]
  },
  {
   "cell_type": "code",
   "execution_count": null,
   "id": "6c05ac87-c1f7-4388-ac3e-39501c04faec",
   "metadata": {},
   "outputs": [],
   "source": [
    "'''Design a currency converter GUI. Allow users to enter an amount and select the\n",
    "currencies they want to convert between (e.g., USD, EUR). Display the converted\n",
    "amount in the selected currency'''\n",
    "\n",
    "import tkinter as tk\n",
    "from tkinter import messagebox\n",
    "\n",
    "\n",
    "\n",
    "top = tk.Tk()\n",
    "top.title(\"Currency Calculation\")\n",
    "top.geometry(\"500x500\")\n",
    "top.configure(bg = \"white\")\n",
    "inr = tk.IntVar()\n",
    "\n",
    "def usd():\n",
    "    a = inr.get()\n",
    "    u = a/83\n",
    "    messagebox.showinfo(\"converter\",\"USD = %i\" %u )\n",
    "def eur():\n",
    "    a = inr.get()\n",
    "    e = a/89\n",
    "    messagebox.showinfo(\"converter\",\"EUR = %i\" %e )\n",
    "def pound():\n",
    "    a = inr.get()\n",
    "    p = a/105\n",
    "    messagebox.showinfo(\"converter\",\"POUND = %i\" %p )\n",
    "l = tk.Label(top,text = \"Enter your Amount in INR \",font = \"khand\", bg = \"snow3\").place(x = 250, y = 150)\n",
    "e = tk.Entry(top, textvariable = inr,width = 30).place(x = 270, y = 190)\n",
    "b1 = tk.Button(top,text = \"USD\",width = 20,bg = \"NavajoWhite3\",command = usd).place(x = 290, y = 220)\n",
    "b2 = tk.Button(top,text = \"EUR\",width = 20,bg = \"NavajoWhite3\",command = eur).place(x = 290, y = 250)\n",
    "b3 = tk.Button(top,text = \"POUND\",width = 20,bg = \"NavajoWhite3\",command = pound).place(x = 290, y = 280)\n",
    "top.mainloop()\n",
    " "
   ]
  },
  {
   "cell_type": "markdown",
   "id": "bc34a7bf-6e7f-4828-a119-35de1afdd999",
   "metadata": {},
   "source": [
    "###### "
   ]
  }
 ],
 "metadata": {
  "kernelspec": {
   "display_name": "Python 3 (ipykernel)",
   "language": "python",
   "name": "python3"
  },
  "language_info": {
   "codemirror_mode": {
    "name": "ipython",
    "version": 3
   },
   "file_extension": ".py",
   "mimetype": "text/x-python",
   "name": "python",
   "nbconvert_exporter": "python",
   "pygments_lexer": "ipython3",
   "version": "3.11.7"
  }
 },
 "nbformat": 4,
 "nbformat_minor": 5
}
