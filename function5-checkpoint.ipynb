{
 "cells": [
  {
   "cell_type": "code",
   "execution_count": 1,
   "id": "81891e92-283d-4214-b93b-14ac10c44af3",
   "metadata": {},
   "outputs": [],
   "source": [
    "def show():\n",
    "    print('hello')\n",
    "    print('ok')\n",
    "    print('goodbye')\n",
    "    "
   ]
  },
  {
   "cell_type": "code",
   "execution_count": 2,
   "id": "dc9dc1c7-4b46-4d98-a27c-b17dc0ee2890",
   "metadata": {},
   "outputs": [
    {
     "name": "stdout",
     "output_type": "stream",
     "text": [
      "hello\n",
      "ok\n",
      "goodbye\n"
     ]
    }
   ],
   "source": [
    "show()"
   ]
  },
  {
   "cell_type": "code",
   "execution_count": 3,
   "id": "f5e5e8f9-45ae-4cac-8f35-200489b4c352",
   "metadata": {},
   "outputs": [
    {
     "name": "stdout",
     "output_type": "stream",
     "text": [
      "hello\n",
      "ok\n",
      "goodbye\n",
      "hello\n",
      "ok\n",
      "goodbye\n",
      "hello\n",
      "ok\n",
      "goodbye\n"
     ]
    }
   ],
   "source": [
    "show()\n",
    "show()\n",
    "show()"
   ]
  },
  {
   "cell_type": "code",
   "execution_count": 1,
   "id": "ce2fc70b-bd62-4510-bbf9-a4c28e0f11c1",
   "metadata": {},
   "outputs": [],
   "source": [
    "def square(n):\n",
    "    result=n*n\n",
    "    print('square is',result)"
   ]
  },
  {
   "cell_type": "code",
   "execution_count": 2,
   "id": "295a8361-c63c-401e-acbb-b70011cd695f",
   "metadata": {},
   "outputs": [
    {
     "name": "stdout",
     "output_type": "stream",
     "text": [
      "square is 100\n"
     ]
    }
   ],
   "source": [
    "square(10)"
   ]
  },
  {
   "cell_type": "code",
   "execution_count": null,
   "id": "e9da258a-81ea-4333-ad98-089652604ce0",
   "metadata": {},
   "outputs": [],
   "source": [
    "n=int(input('enter the number'))\n",
    "square(n)"
   ]
  },
  {
   "cell_type": "code",
   "execution_count": 24,
   "id": "0bd0ad11-cfac-42d4-be1d-01456696b00f",
   "metadata": {},
   "outputs": [],
   "source": [
    "# multi parametrized function\n",
    "def largest(a,b):\n",
    "    if a>b:\n",
    "        print(a,'largest num')\n",
    "    elif(a==b):\n",
    "        print('equal')\n",
    "    else:\n",
    "         print(b,'is greater')\n"
   ]
  },
  {
   "cell_type": "code",
   "execution_count": 14,
   "id": "c074f2bc-6126-4e45-b54f-4a5653a4e763",
   "metadata": {},
   "outputs": [
    {
     "name": "stdout",
     "output_type": "stream",
     "text": [
      "4 largest num\n"
     ]
    }
   ],
   "source": [
    "largest(4,3)"
   ]
  },
  {
   "cell_type": "code",
   "execution_count": 19,
   "id": "25594c92-3434-4542-a8a3-b46ba9466361",
   "metadata": {},
   "outputs": [],
   "source": [
    "def dis(name,count): # print string n number of times\n",
    "    for i in range(count):\n",
    "     print(name)\n"
   ]
  },
  {
   "cell_type": "code",
   "execution_count": 18,
   "id": "f8036467-33b4-494f-9dff-77a5ffcb63fa",
   "metadata": {},
   "outputs": [
    {
     "name": "stdout",
     "output_type": "stream",
     "text": [
      "tanu\n",
      "tanu\n",
      "tanu\n",
      "tanu\n",
      "tanu\n"
     ]
    }
   ],
   "source": [
    "dis('tanu',5)"
   ]
  },
  {
   "cell_type": "code",
   "execution_count": 33,
   "id": "9420751e-ce65-47e4-881a-90d178b6b072",
   "metadata": {},
   "outputs": [],
   "source": [
    "# function for factorial\n",
    "def facto(n):\n",
    "    fact=1\n",
    "    for i in range(1,n+1):\n",
    "      fact=fact*i\n",
    "    print('factorial',fact)\n",
    "    "
   ]
  },
  {
   "cell_type": "code",
   "execution_count": 20,
   "id": "a7b1416e-bc5e-4596-bcfa-71171c92d1dc",
   "metadata": {},
   "outputs": [],
   "source": [
    "def square(n):\n",
    "    result=n*n\n",
    "    return result\n",
    "    \n"
   ]
  },
  {
   "cell_type": "code",
   "execution_count": 21,
   "id": "30b7094a-72e7-46c6-b956-42713aaaadc3",
   "metadata": {},
   "outputs": [
    {
     "data": {
      "text/plain": [
       "25"
      ]
     },
     "execution_count": 21,
     "metadata": {},
     "output_type": "execute_result"
    }
   ],
   "source": [
    "square(5)"
   ]
  },
  {
   "cell_type": "code",
   "execution_count": 23,
   "id": "99412f3f-1b53-4547-ba2a-1a2a74b31859",
   "metadata": {},
   "outputs": [
    {
     "name": "stdout",
     "output_type": "stream",
     "text": [
      "9\n",
      "None\n",
      "9\n",
      "result None\n"
     ]
    }
   ],
   "source": [
    "#difference between return and printm\n",
    "def add(a,b):\n",
    "    result=a+b\n",
    "    print(result)\n",
    "    \n",
    "print(add(4,5))\n",
    "\n",
    "op= add(4,5)\n",
    "\n",
    "print('result',op)\n",
    "\n"
   ]
  },
  {
   "cell_type": "code",
   "execution_count": 28,
   "id": "cf847c59-e492-4355-a7ae-1e4ffb95a0a7",
   "metadata": {},
   "outputs": [],
   "source": [
    "\n",
    "def largest(a,b):\n",
    "    if a>b:\n",
    "        return a\n",
    "    elif(a==b):\n",
    "        return equal\n",
    "    else:\n",
    "         return b\n"
   ]
  },
  {
   "cell_type": "code",
   "execution_count": 29,
   "id": "4b95b46f-a47f-4e6c-9a9f-ed681f5a580e",
   "metadata": {},
   "outputs": [
    {
     "data": {
      "text/plain": [
       "7"
      ]
     },
     "execution_count": 29,
     "metadata": {},
     "output_type": "execute_result"
    }
   ],
   "source": [
    "largest(7,6)"
   ]
  },
  {
   "cell_type": "code",
   "execution_count": 30,
   "id": "39f48573-706b-4f6e-be93-6f4c0856a453",
   "metadata": {},
   "outputs": [],
   "source": [
    "#perm and comb\n",
    "#ncr n! / r!(n-r)!"
   ]
  },
  {
   "cell_type": "code",
   "execution_count": 34,
   "id": "28bf316c-ca7e-4dc7-bb49-884a587dabed",
   "metadata": {},
   "outputs": [],
   "source": [
    "\n",
    "def facto(n):\n",
    "    fact=1\n",
    "    for i in range(1,n+1):\n",
    "      fact=fact*i\n",
    "    print('factorial',fact)\n",
    "    "
   ]
  },
  {
   "cell_type": "code",
   "execution_count": null,
   "id": "2de7d40d-417e-41a0-ae53-4914b9657957",
   "metadata": {},
   "outputs": [],
   "source": [
    "n=int(input('total:'))\n",
    "r=int(input('combination of:'))\n",
    "\n",
    "ncr=facto(n)/(facto(r)*facto(n-r))\n",
    "print(ncr)"
   ]
  },
  {
   "cell_type": "code",
   "execution_count": 1,
   "id": "6b45419e-8a58-4f66-9295-3a84577841f1",
   "metadata": {},
   "outputs": [],
   "source": [
    "def calc(n):\n",
    "    sq=n*n\n",
    "    cu=n**3\n",
    "    return sq,cu"
   ]
  },
  {
   "cell_type": "code",
   "execution_count": 2,
   "id": "f78f56fe-e73b-4e4b-bbb7-0fbb02fb073e",
   "metadata": {},
   "outputs": [
    {
     "data": {
      "text/plain": [
       "(25, 125)"
      ]
     },
     "execution_count": 2,
     "metadata": {},
     "output_type": "execute_result"
    }
   ],
   "source": [
    "calc(5)"
   ]
  },
  {
   "cell_type": "code",
   "execution_count": null,
   "id": "9c20a481-0a5c-4e80-82d1-e9707758411f",
   "metadata": {},
   "outputs": [],
   "source": [
    "n=int(input('enter number'))\n",
    "x,y=calc(n)\n",
    "print('sqr',x)\n",
    "print('cu',y)"
   ]
  },
  {
   "cell_type": "code",
   "execution_count": 1,
   "id": "d188aaa1-941a-43ae-b752-40305fcdf2c5",
   "metadata": {},
   "outputs": [],
   "source": [
    "#default parameter\n",
    "def add3(a=5,b=7,c=8):\n",
    "    result=a+b+c\n",
    "    return result"
   ]
  },
  {
   "cell_type": "code",
   "execution_count": 2,
   "id": "7e2da37f-3ac2-4d83-9357-ec30622ff17e",
   "metadata": {},
   "outputs": [
    {
     "data": {
      "text/plain": [
       "20"
      ]
     },
     "execution_count": 2,
     "metadata": {},
     "output_type": "execute_result"
    }
   ],
   "source": [
    "add3()"
   ]
  },
  {
   "cell_type": "code",
   "execution_count": 3,
   "id": "13b38a17-0bc8-427c-a44e-aeab9df7342b",
   "metadata": {},
   "outputs": [
    {
     "data": {
      "text/plain": [
       "25"
      ]
     },
     "execution_count": 3,
     "metadata": {},
     "output_type": "execute_result"
    }
   ],
   "source": [
    "add3(10)"
   ]
  },
  {
   "cell_type": "code",
   "execution_count": 4,
   "id": "59952383-e984-4312-81d1-15da14c077a5",
   "metadata": {},
   "outputs": [
    {
     "data": {
      "text/plain": [
       "28"
      ]
     },
     "execution_count": 4,
     "metadata": {},
     "output_type": "execute_result"
    }
   ],
   "source": [
    "add3(10,10)"
   ]
  },
  {
   "cell_type": "code",
   "execution_count": 5,
   "id": "024c0f92-8814-4061-9004-5d4f5849aef3",
   "metadata": {},
   "outputs": [
    {
     "data": {
      "text/plain": [
       "27"
      ]
     },
     "execution_count": 5,
     "metadata": {},
     "output_type": "execute_result"
    }
   ],
   "source": [
    "add3(a=10,c=10)"
   ]
  },
  {
   "cell_type": "code",
   "execution_count": 6,
   "id": "31325cb1-5fe7-4e98-bd2d-9de6749f0a14",
   "metadata": {},
   "outputs": [],
   "source": [
    "def in1(*a):\n",
    "    for i in a:\n",
    "        print(i)\n"
   ]
  },
  {
   "cell_type": "code",
   "execution_count": 8,
   "id": "8dcec374-986d-403f-886d-ee01445a8285",
   "metadata": {},
   "outputs": [
    {
     "name": "stdout",
     "output_type": "stream",
     "text": [
      "1\n",
      "2\n",
      "3\n",
      "4\n",
      "5\n"
     ]
    }
   ],
   "source": [
    "in1(1,2,3,4,5)"
   ]
  },
  {
   "cell_type": "code",
   "execution_count": 9,
   "id": "4251001e-e6aa-4723-bd21-a39be320f9e1",
   "metadata": {},
   "outputs": [
    {
     "data": {
      "text/plain": [
       "25"
      ]
     },
     "execution_count": 9,
     "metadata": {},
     "output_type": "execute_result"
    }
   ],
   "source": [
    "# lambda function\n",
    "square=lambda x:x*x\n",
    "square(5)"
   ]
  },
  {
   "cell_type": "code",
   "execution_count": 10,
   "id": "e54b0032-3996-43f3-855e-df258ebf692e",
   "metadata": {},
   "outputs": [
    {
     "data": {
      "text/plain": [
       "10"
      ]
     },
     "execution_count": 10,
     "metadata": {},
     "output_type": "execute_result"
    }
   ],
   "source": [
    "ad=lambda x,y:x+y\n",
    "ad(5,5)"
   ]
  },
  {
   "cell_type": "code",
   "execution_count": 11,
   "id": "4a4efb44-5000-4a28-98d0-c6d9ad5db08c",
   "metadata": {},
   "outputs": [],
   "source": [
    "#filter"
   ]
  },
  {
   "cell_type": "code",
   "execution_count": 12,
   "id": "547aa4b6-cf3d-4a32-adc3-f9721ec45113",
   "metadata": {},
   "outputs": [],
   "source": [
    "num=[23,45,67,78,53,21]"
   ]
  },
  {
   "cell_type": "code",
   "execution_count": 13,
   "id": "68e34984-47e2-4c55-a4d1-322acd25dfc2",
   "metadata": {},
   "outputs": [],
   "source": [
    "new=filter(lambda x:x>40,num)"
   ]
  },
  {
   "cell_type": "code",
   "execution_count": 14,
   "id": "1b75fd61-673f-4d7f-badf-82b3cca975cc",
   "metadata": {},
   "outputs": [
    {
     "data": {
      "text/plain": [
       "[45, 67, 78, 53]"
      ]
     },
     "execution_count": 14,
     "metadata": {},
     "output_type": "execute_result"
    }
   ],
   "source": [
    "list(new)"
   ]
  },
  {
   "cell_type": "code",
   "execution_count": 15,
   "id": "49869869-a01f-4e23-9c2b-643aa71d318e",
   "metadata": {},
   "outputs": [],
   "source": [
    "#map"
   ]
  },
  {
   "cell_type": "code",
   "execution_count": 17,
   "id": "2f2057ef-d855-42b6-bfa6-3b531293f83c",
   "metadata": {},
   "outputs": [],
   "source": [
    "new=map(lambda x:x/2,num)"
   ]
  },
  {
   "cell_type": "code",
   "execution_count": 18,
   "id": "9112a98e-abd4-403c-93eb-241d88bf8d63",
   "metadata": {},
   "outputs": [
    {
     "data": {
      "text/plain": [
       "[11.5, 22.5, 33.5, 39.0, 26.5, 10.5]"
      ]
     },
     "execution_count": 18,
     "metadata": {},
     "output_type": "execute_result"
    }
   ],
   "source": [
    "list(new)"
   ]
  },
  {
   "cell_type": "code",
   "execution_count": 20,
   "id": "4c432b2b-0db6-4725-800a-b4bdfdd0d4c8",
   "metadata": {},
   "outputs": [
    {
     "name": "stdout",
     "output_type": "stream",
     "text": [
      "[False, True, True, True, True, False]\n"
     ]
    }
   ],
   "source": [
    "new=map(lambda x:x>40,num)\n",
    "print(list(new))"
   ]
  },
  {
   "cell_type": "code",
   "execution_count": 21,
   "id": "afcb3ab8-3958-4568-a0d4-61982bec7706",
   "metadata": {},
   "outputs": [],
   "source": [
    "#module"
   ]
  },
  {
   "cell_type": "code",
   "execution_count": 22,
   "id": "5ffee787-6f91-4d60-be33-6822a90b8a47",
   "metadata": {},
   "outputs": [],
   "source": [
    "import math"
   ]
  },
  {
   "cell_type": "code",
   "execution_count": 23,
   "id": "8468e983-f115-49df-9951-8fc41103b282",
   "metadata": {},
   "outputs": [
    {
     "data": {
      "text/plain": [
       "10.0"
      ]
     },
     "execution_count": 23,
     "metadata": {},
     "output_type": "execute_result"
    }
   ],
   "source": [
    "math.sqrt(100)"
   ]
  },
  {
   "cell_type": "code",
   "execution_count": 24,
   "id": "e9f2b7da-bcbf-4574-bf11-3b82ea8eaca0",
   "metadata": {},
   "outputs": [
    {
     "data": {
      "text/plain": [
       "-0.9880316240928618"
      ]
     },
     "execution_count": 24,
     "metadata": {},
     "output_type": "execute_result"
    }
   ],
   "source": [
    "math.sin(30)"
   ]
  },
  {
   "cell_type": "code",
   "execution_count": 25,
   "id": "a2c19135-135a-418b-af4f-798d2f43bea1",
   "metadata": {},
   "outputs": [
    {
     "data": {
      "text/plain": [
       "2.302585092994046"
      ]
     },
     "execution_count": 25,
     "metadata": {},
     "output_type": "execute_result"
    }
   ],
   "source": [
    "math.log(10)"
   ]
  },
  {
   "cell_type": "code",
   "execution_count": null,
   "id": "4fd94e12-2f2c-4b18-89c3-7603633b2c84",
   "metadata": {},
   "outputs": [],
   "source": [
    "#read a radius and find area\n",
    "radius=float(input('enter radius'))\n",
    "\n",
    "print('area of circle is',math.pi*r*r)"
   ]
  },
  {
   "cell_type": "code",
   "execution_count": 1,
   "id": "8c6a064e-a2cb-4e31-bfeb-a6d5b025a45a",
   "metadata": {},
   "outputs": [
    {
     "data": {
      "text/plain": [
       "'Mon Jun 10 12:12:14 2024'"
      ]
     },
     "execution_count": 1,
     "metadata": {},
     "output_type": "execute_result"
    }
   ],
   "source": [
    "import time\n",
    "time.asctime()"
   ]
  },
  {
   "cell_type": "code",
   "execution_count": 2,
   "id": "8c9cb107-5d1f-4f58-b40f-29e8305ff674",
   "metadata": {},
   "outputs": [
    {
     "name": "stdout",
     "output_type": "stream",
     "text": [
      "hello\n",
      "ok\n"
     ]
    }
   ],
   "source": [
    "print('hello')\n",
    "time.sleep(5)\n",
    "print('ok')"
   ]
  },
  {
   "cell_type": "code",
   "execution_count": 3,
   "id": "cd3648a4-6244-4ed5-a534-055ee10a5747",
   "metadata": {},
   "outputs": [],
   "source": [
    "#giving an alias"
   ]
  },
  {
   "cell_type": "code",
   "execution_count": 4,
   "id": "4d6a1c7c-deec-494e-9309-8da65458bc3e",
   "metadata": {},
   "outputs": [],
   "source": [
    "import math as m"
   ]
  },
  {
   "cell_type": "code",
   "execution_count": 5,
   "id": "f9c3609b-73c9-4324-9128-d18642c76022",
   "metadata": {},
   "outputs": [
    {
     "data": {
      "text/plain": [
       "10.0"
      ]
     },
     "execution_count": 5,
     "metadata": {},
     "output_type": "execute_result"
    }
   ],
   "source": [
    "m.sqrt(100)"
   ]
  },
  {
   "cell_type": "code",
   "execution_count": 6,
   "id": "cab349d3-6b2a-4a6c-ac98-212feb4ab44b",
   "metadata": {},
   "outputs": [],
   "source": [
    "#selective imports"
   ]
  },
  {
   "cell_type": "code",
   "execution_count": 7,
   "id": "1de413ce-f657-4a5f-bb56-e5ffcee64deb",
   "metadata": {},
   "outputs": [],
   "source": [
    "from math import sqrt,sin,pi"
   ]
  },
  {
   "cell_type": "code",
   "execution_count": 9,
   "id": "1e919cbe-5eed-410c-9f2d-d30e5f792f63",
   "metadata": {},
   "outputs": [
    {
     "data": {
      "text/plain": [
       "10.0"
      ]
     },
     "execution_count": 9,
     "metadata": {},
     "output_type": "execute_result"
    }
   ],
   "source": [
    "sqrt(100)"
   ]
  },
  {
   "cell_type": "code",
   "execution_count": 10,
   "id": "672a4147-6fce-484f-bfa8-892b3b803a02",
   "metadata": {},
   "outputs": [
    {
     "data": {
      "text/plain": [
       "3.141592653589793"
      ]
     },
     "execution_count": 10,
     "metadata": {},
     "output_type": "execute_result"
    }
   ],
   "source": [
    "pi"
   ]
  },
  {
   "cell_type": "code",
   "execution_count": 11,
   "id": "31d55759-5add-46fc-a153-2049f8daeb50",
   "metadata": {},
   "outputs": [],
   "source": [
    "#import user defined module"
   ]
  },
  {
   "cell_type": "code",
   "execution_count": 12,
   "id": "7aef94ca-9e93-49cf-8ecc-a7998acaae97",
   "metadata": {},
   "outputs": [
    {
     "ename": "ModuleNotFoundError",
     "evalue": "No module named 'mod1'",
     "output_type": "error",
     "traceback": [
      "\u001b[1;31m---------------------------------------------------------------------------\u001b[0m",
      "\u001b[1;31mModuleNotFoundError\u001b[0m                       Traceback (most recent call last)",
      "Cell \u001b[1;32mIn[12], line 1\u001b[0m\n\u001b[1;32m----> 1\u001b[0m \u001b[38;5;28;01mimport\u001b[39;00m \u001b[38;5;21;01mmod1\u001b[39;00m\n",
      "\u001b[1;31mModuleNotFoundError\u001b[0m: No module named 'mod1'"
     ]
    }
   ],
   "source": [
    "import mod1"
   ]
  },
  {
   "cell_type": "code",
   "execution_count": 13,
   "id": "cfaac7da-737f-450f-84e2-f7dbd09b95a4",
   "metadata": {},
   "outputs": [
    {
     "ename": "ModuleNotFoundError",
     "evalue": "No module named 'mod1'",
     "output_type": "error",
     "traceback": [
      "\u001b[1;31m---------------------------------------------------------------------------\u001b[0m",
      "\u001b[1;31mModuleNotFoundError\u001b[0m                       Traceback (most recent call last)",
      "Cell \u001b[1;32mIn[13], line 1\u001b[0m\n\u001b[1;32m----> 1\u001b[0m \u001b[38;5;28;01mimport\u001b[39;00m \u001b[38;5;21;01mmod1\u001b[39;00m \u001b[38;5;28;01mas\u001b[39;00m \u001b[38;5;21;01mm\u001b[39;00m\n",
      "\u001b[1;31mModuleNotFoundError\u001b[0m: No module named 'mod1'"
     ]
    }
   ],
   "source": [
    "import mod1 as m"
   ]
  },
  {
   "cell_type": "code",
   "execution_count": 14,
   "id": "4e7ac465-cef4-46ae-addd-f0259dc32a25",
   "metadata": {},
   "outputs": [],
   "source": [
    "def dis():\n",
    "    print('ok')\n",
    "    print('this is my module')\n",
    "    "
   ]
  },
  {
   "cell_type": "code",
   "execution_count": 16,
   "id": "5dacafc1-6aa0-49ab-996f-687f65e29445",
   "metadata": {},
   "outputs": [
    {
     "ename": "NameError",
     "evalue": "name 'mod1' is not defined",
     "output_type": "error",
     "traceback": [
      "\u001b[1;31m---------------------------------------------------------------------------\u001b[0m",
      "\u001b[1;31mNameError\u001b[0m                                 Traceback (most recent call last)",
      "Cell \u001b[1;32mIn[16], line 1\u001b[0m\n\u001b[1;32m----> 1\u001b[0m mod1\u001b[38;5;241m.\u001b[39mshow()\n",
      "\u001b[1;31mNameError\u001b[0m: name 'mod1' is not defined"
     ]
    }
   ],
   "source": [
    "mod1.show()"
   ]
  },
  {
   "cell_type": "code",
   "execution_count": null,
   "id": "8b208a12-298d-4e26-8df9-e1db57fc07a5",
   "metadata": {},
   "outputs": [],
   "source": []
  },
  {
   "cell_type": "code",
   "execution_count": null,
   "id": "09a56f77-57eb-4c1f-bd31-afa6ce79605e",
   "metadata": {},
   "outputs": [],
   "source": []
  }
 ],
 "metadata": {
  "kernelspec": {
   "display_name": "Python 3 (ipykernel)",
   "language": "python",
   "name": "python3"
  },
  "language_info": {
   "codemirror_mode": {
    "name": "ipython",
    "version": 3
   },
   "file_extension": ".py",
   "mimetype": "text/x-python",
   "name": "python",
   "nbconvert_exporter": "python",
   "pygments_lexer": "ipython3",
   "version": "3.11.7"
  }
 },
 "nbformat": 4,
 "nbformat_minor": 5
}
